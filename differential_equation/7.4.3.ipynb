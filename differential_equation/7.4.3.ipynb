{
 "cells": [
  {
   "cell_type": "code",
   "id": "initial_id",
   "metadata": {
    "collapsed": true,
    "ExecuteTime": {
     "end_time": "2024-06-16T13:09:40.270810Z",
     "start_time": "2024-06-16T13:09:39.852073Z"
    }
   },
   "source": [
    "import numpy as np\n",
    "import matplotlib.pyplot as plt"
   ],
   "outputs": [],
   "execution_count": 1
  },
  {
   "metadata": {
    "ExecuteTime": {
     "end_time": "2024-06-16T13:11:18.602545Z",
     "start_time": "2024-06-16T13:11:18.587025Z"
    }
   },
   "cell_type": "code",
   "source": [
    "def f(t):\n",
    "    return np.cos(2 * t) + 3 * t + 1\n",
    "\n",
    "a0, a1, a2, a3 = 1.0, -1.4, 0.64, 41.52\n",
    "b1, b2, b3 = 1.0, 2.5, 6.0\n",
    "A, B = 0.0, 1.5"
   ],
   "id": "c720d34e2696e973",
   "outputs": [],
   "execution_count": 2
  },
  {
   "metadata": {},
   "cell_type": "code",
   "outputs": [],
   "execution_count": null,
   "source": "",
   "id": "2a958120acc46e96"
  }
 ],
 "metadata": {
  "kernelspec": {
   "display_name": "Python 3",
   "language": "python",
   "name": "python3"
  },
  "language_info": {
   "codemirror_mode": {
    "name": "ipython",
    "version": 2
   },
   "file_extension": ".py",
   "mimetype": "text/x-python",
   "name": "python",
   "nbconvert_exporter": "python",
   "pygments_lexer": "ipython2",
   "version": "2.7.6"
  }
 },
 "nbformat": 4,
 "nbformat_minor": 5
}
