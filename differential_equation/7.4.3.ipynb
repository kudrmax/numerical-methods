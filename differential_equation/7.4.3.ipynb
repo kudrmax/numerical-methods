{
 "cells": [
  {
   "cell_type": "code",
   "id": "initial_id",
   "metadata": {
    "collapsed": true,
    "ExecuteTime": {
     "end_time": "2024-06-16T13:09:40.270810Z",
     "start_time": "2024-06-16T13:09:39.852073Z"
    }
   },
   "source": [
    "import numpy as np\n",
    "import matplotlib.pyplot as plt"
   ],
   "execution_count": 1,
   "outputs": []
  },
  {
   "metadata": {
    "ExecuteTime": {
     "end_time": "2024-06-16T13:11:18.602545Z",
     "start_time": "2024-06-16T13:11:18.587025Z"
    }
   },
   "cell_type": "code",
   "source": [
    "def f(t):\n",
    "    return np.cos(2 * t) + 3 * t + 1\n",
    "\n",
    "\n",
    "a0, a1, a2, a3 = 1.0, -1.4, 0.64, 41.52\n",
    "a = np.array([a0, a1, a2, a3])\n",
    "\n",
    "b1, b2, b3 = 1.0, 2.5, 6.0\n",
    "b = np.array([b1, b2, b3])\n",
    "\n",
    "A, B = 0.0, 1.5"
   ],
   "id": "c720d34e2696e973",
   "execution_count": 2,
   "outputs": []
  },
  {
   "metadata": {
    "ExecuteTime": {
     "end_time": "2024-06-16T14:28:51.994656Z",
     "start_time": "2024-06-16T14:28:51.979652Z"
    }
   },
   "cell_type": "code",
   "source": [
    "def rk(f, y0, t0, t1, h=0.1):\n",
    "    \"\"\"\n",
    "    Функция, решающяя систему дифференциальных уравнений через метод Рунге-Кутты\n",
    "    \"\"\"\n",
    "\n",
    "    def f_system(t, y):\n",
    "        y1, y2, y3 = y\n",
    "        return np.array([\n",
    "            y2,\n",
    "            y3,\n",
    "            (f(t) - a1 * y3 - a2 * y2 - a3 * y1) / a0\n",
    "        ])\n",
    "\n",
    "    t_arr = np.arange(t0, t1 + h, h)\n",
    "    y_arr = np.zeros((len(t_arr), len(y0)))\n",
    "    y_arr[0] = y0\n",
    "\n",
    "    for i in range(0, len(t_arr) - 1):\n",
    "        k1 = f_system(t_arr[i], y_arr[i])\n",
    "        k2 = f_system(t_arr[i] + 0.5 * h, y_arr[i] + 0.5 * h * k1)\n",
    "        k3 = f_system(t_arr[i] + 0.5 * h, y_arr[i] + 0.5 * h * k2)\n",
    "        k4 = f_system(t_arr[i] + h, y_arr[i] + h * k3)\n",
    "        k = (k1 + 2 * k2 + 2 * k3 + k4) / 6\n",
    "        y_arr[i + 1] = y_arr[i] + h * k\n",
    "\n",
    "    return t_arr, y_arr[:, 0]"
   ],
   "id": "2a958120acc46e96",
   "execution_count": 14,
   "outputs": []
  },
  {
   "metadata": {
    "ExecuteTime": {
     "end_time": "2024-06-16T14:33:51.212699Z",
     "start_time": "2024-06-16T14:33:51.203874Z"
    }
   },
   "cell_type": "code",
   "source": [
    "y0 = np.array([b1, b2, b3])\n",
    "\n",
    "h1, h2 = 0.1, 0.05\n",
    "t1, y1 = rk(f, y0, A, B, h=h1)\n",
    "t2, y2 = rk(f, y0, A, B, h=h2)"
   ],
   "id": "908e5fbb8d363f30",
   "execution_count": 21,
   "outputs": []
  },
  {
   "metadata": {
    "ExecuteTime": {
     "end_time": "2024-06-16T14:33:53.130672Z",
     "start_time": "2024-06-16T14:33:53.120520Z"
    }
   },
   "cell_type": "code",
   "source": [
    "def runge_error(method, f, y0, A, B, h, p):\n",
    "    t_h, y_h = method(f, y0, A, B, h)  # для h\n",
    "    t_h_2, y_h_2 = method(f, y0, A, B, h / 2)  # для h / 2\n",
    "    return (y_h_2[::2] - y_h) / (2 ** p - 1)\n",
    "\n",
    "\n",
    "print(f'Ошибка Рунге для h={h1}: {np.abs(runge_error(rk, f, y0, A, B, h1, 4)).max()}')\n",
    "print(f'Ошибка Рунге для h={h2}: {np.abs(runge_error(rk, f, y0, A, B, h2, 4)).max()}')"
   ],
   "id": "d8d2ca3194027e1",
   "execution_count": 22,
   "outputs": []
  },
  {
   "metadata": {
    "ExecuteTime": {
     "end_time": "2024-06-16T14:33:55.019692Z",
     "start_time": "2024-06-16T14:33:54.804326Z"
    }
   },
   "cell_type": "code",
   "source": [
    "plt.plot(t1, y1, label=f'h={h1}')\n",
    "plt.plot(t2, y2, label=f'h={h2}')\n",
    "plt.title('Решение задачи Коши методом Рунге-Кутты 4-го порядка')\n",
    "plt.xlabel('t')\n",
    "plt.ylabel('y(t)')\n",
    "plt.legend()\n",
    "plt.grid(True)"
   ],
   "id": "13ee3751e655b3b9",
   "execution_count": 23,
   "outputs": []
  },
  {
   "metadata": {},
   "cell_type": "code",
   "execution_count": null,
   "source": "",
   "id": "7a8943edcdf90688",
   "outputs": []
  }
 ],
 "metadata": {
  "kernelspec": {
   "display_name": "Python 3",
   "language": "python",
   "name": "python3"
  },
  "language_info": {
   "codemirror_mode": {
    "name": "ipython",
    "version": 2
   },
   "file_extension": ".py",
   "mimetype": "text/x-python",
   "name": "python",
   "nbconvert_exporter": "python",
   "pygments_lexer": "ipython2",
   "version": "2.7.6"
  }
 },
 "nbformat": 4,
 "nbformat_minor": 5
}
