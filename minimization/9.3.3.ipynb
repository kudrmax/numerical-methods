{
 "cells": [
  {
   "metadata": {
    "ExecuteTime": {
     "end_time": "2024-06-02T18:28:40.661067Z",
     "start_time": "2024-06-02T18:28:39.051283Z"
    }
   },
   "cell_type": "code",
   "source": [
    "from functools import cache\n",
    "import numpy as np\n",
    "import matplotlib.pyplot as plt\n",
    "from scipy.optimize import fsolve"
   ],
   "id": "1ad936859e9ecb47",
   "execution_count": 2,
   "outputs": []
  },
  {
   "cell_type": "code",
   "id": "initial_id",
   "metadata": {
    "collapsed": true,
    "ExecuteTime": {
     "end_time": "2024-06-02T18:38:51.300199Z",
     "start_time": "2024-06-02T18:38:51.287803Z"
    }
   },
   "source": [
    "def F(x, t):\n",
    "    return np.exp(2 * x + t) - np.exp(t ** 2) - 2 * np.cos(x)\n",
    "\n",
    "\n",
    "def x_t(t):\n",
    "    \"\"\"\n",
    "    Функция для получения функции зависимости x(t) из F(x(t), t)\n",
    "    \"\"\"\n",
    "    x_initial_guess = 0\n",
    "    x_solution = fsolve(F, x_initial_guess, args=(t))\n",
    "    return x_solution[0]\n",
    "\n",
    "\n",
    "@cache\n",
    "def calc_fibonacci(n):\n",
    "    \"\"\"\n",
    "    Функция для получения чисел Фибоначи\n",
    "    \"\"\"\n",
    "    if n == 0:\n",
    "        return 1\n",
    "    if n == 1:\n",
    "        return 1\n",
    "    return calc_fibonacci(n - 1) + calc_fibonacci(n - 2)\n",
    "\n",
    "\n",
    "def fibonacci_minimization(f, a, b, eps):\n",
    "    \"\"\"\n",
    "    Функция для минимизации функции через метод Фибоначи\n",
    "    \"\"\"\n",
    "    \n",
    "    # ищем n по формуле\n",
    "    n = 1\n",
    "    while (b - a) / calc_fibonacci(n + 1) >= eps:\n",
    "        n += 1\n",
    "    \n",
    "    # алгоритм для метода Фибоначи\n",
    "    for k in range(n - 1):\n",
    "        \n",
    "        alpha = a + (calc_fibonacci(n - k - 1) / calc_fibonacci(n - k + 1)) * (b - a)\n",
    "        beta = a + (calc_fibonacci(n - k) / calc_fibonacci(n - k + 1)) * (b - a)\n",
    "\n",
    "        if f(alpha) <= f(beta):\n",
    "            a, b = a, beta\n",
    "        else:\n",
    "            a, b = alpha, b\n",
    "\n",
    "    return b"
   ],
   "execution_count": 17,
   "outputs": []
  },
  {
   "metadata": {
    "ExecuteTime": {
     "end_time": "2024-06-02T18:38:53.421841Z",
     "start_time": "2024-06-02T18:38:53.398927Z"
    }
   },
   "cell_type": "code",
   "source": [
    "epsilon = 1e-6\n",
    "t1, t2 = 0, 2\n",
    "\n",
    "t_min = fibonacci_minimization(lambda t: x_t(t), t1, t2, epsilon)\n",
    "t_max = fibonacci_minimization(lambda t: -x_t(t), t1, t2, epsilon)\n",
    "\n",
    "print(f\"Минимум функции x(t) достигается при t = {t_min}, x(t) = {x_t(t_min)}\")\n",
    "print(f\"Максимум функции x(t) достигается при t = {t_max}, x(t) = {x_t(t_max)}\")"
   ],
   "id": "c262f8cd9363a83e",
   "execution_count": 18,
   "outputs": []
  },
  {
   "metadata": {
    "ExecuteTime": {
     "end_time": "2024-06-02T18:40:16.222298Z",
     "start_time": "2024-06-02T18:40:16.092638Z"
    }
   },
   "cell_type": "code",
   "source": [
    "\n",
    "t_values = np.linspace(t1, t2, 500)\n",
    "x_values = np.array([x_t(t) for t in t_values])\n",
    "\n",
    "plt.plot(t_values, x_values, label='x(t)', c='g')\n",
    "plt.scatter(t_min, x_t(t_min), label='min(x(t))', zorder=2)\n",
    "plt.scatter(t_max, x_t(t_max), label='max(x(t))', zorder=3)\n",
    "plt.xlabel('t')\n",
    "plt.ylabel('x(t)')\n",
    "plt.title('x(t)')\n",
    "plt.grid(True)\n",
    "plt.legend()\n",
    "plt.show()"
   ],
   "id": "6d68a5f4d35f5e70",
   "execution_count": 26,
   "outputs": []
  }
 ],
 "metadata": {
  "kernelspec": {
   "display_name": "Python 3",
   "language": "python",
   "name": "python3"
  },
  "language_info": {
   "codemirror_mode": {
    "name": "ipython",
    "version": 2
   },
   "file_extension": ".py",
   "mimetype": "text/x-python",
   "name": "python",
   "nbconvert_exporter": "python",
   "pygments_lexer": "ipython2",
   "version": "2.7.6"
  }
 },
 "nbformat": 4,
 "nbformat_minor": 5
}
