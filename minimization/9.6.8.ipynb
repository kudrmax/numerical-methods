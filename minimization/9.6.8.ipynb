{
 "cells": [
  {
   "metadata": {
    "ExecuteTime": {
     "end_time": "2024-06-02T20:19:00.575735Z",
     "start_time": "2024-06-02T20:19:00.570005Z"
    }
   },
   "cell_type": "code",
   "source": [
    "import numpy as np\n",
    "import matplotlib.pyplot as plt"
   ],
   "id": "c86b858c45f66e27",
   "execution_count": 107,
   "outputs": []
  },
  {
   "cell_type": "code",
   "id": "initial_id",
   "metadata": {
    "collapsed": true,
    "ExecuteTime": {
     "end_time": "2024-06-02T20:19:00.869969Z",
     "start_time": "2024-06-02T20:19:00.866497Z"
    }
   },
   "source": [
    "def conjugate_gradient(A, b, x0, epsilon):\n",
    "    def grad_f(x):\n",
    "        return A @ x - b\n",
    "\n",
    "    x = x0\n",
    "    g = grad_f(x)\n",
    "    p_prev = None\n",
    "    Ap_prev = None\n",
    "\n",
    "    iterations = 0\n",
    "    while np.linalg.norm(grad_f(x)) > epsilon: \n",
    "        g = grad_f(x)\n",
    "        beta_prev = np.dot(Ap_prev, g) / np.dot(Ap_prev, p_prev) if iterations > 0 else 0\n",
    "        p = -g + beta_prev * p_prev if iterations > 0 else -g\n",
    "        Ap = A @ p\n",
    "        alpha = - np.dot(g, p) / np.dot(Ap, p) if np.linalg.norm(p) != 0 else 0\n",
    "        x_new = x + alpha * p\n",
    "        p_prev, Ap_prev = p, Ap\n",
    "        x = x_new\n",
    "        iterations += 1\n",
    "        # print(f'it = {iterations}, x = {x}')\n",
    "    return x, iterations"
   ],
   "execution_count": 108,
   "outputs": []
  },
  {
   "metadata": {
    "ExecuteTime": {
     "end_time": "2024-06-02T20:19:11.304636Z",
     "start_time": "2024-06-02T20:19:11.288745Z"
    }
   },
   "cell_type": "code",
   "source": [
    "A = 2 * np.array([[1, 0.25], [0.25, 2.5]])\n",
    "b = 2 * np.array([-3.5, -6.5])\n",
    "epsilon = 1e-6\n",
    "\n",
    "def F(x):\n",
    "    return 0.5 * ((A @ x) @ x) - (b @ x)\n",
    "\n",
    "x0 = np.array([0, 0])\n",
    "x_min, iterations = conjugate_gradient(A, b, x0, epsilon)\n",
    "\n",
    "print(\"Точка минимума:\", x_min)\n",
    "print(\"Значение функции:\", F(x_min))\n",
    "print(\"Количество итераций:\", iterations)"
   ],
   "id": "5ba0e1f09b155d96",
   "execution_count": 112,
   "outputs": []
  },
  {
   "metadata": {
    "ExecuteTime": {
     "end_time": "2024-06-02T20:19:12.561827Z",
     "start_time": "2024-06-02T20:19:12.379006Z"
    }
   },
   "cell_type": "code",
   "source": [
    "x_vals = np.linspace(-10, 10, 400)\n",
    "y_vals = np.linspace(-10, 10, 400)\n",
    "X, Y = np.meshgrid(x_vals, y_vals)\n",
    "Z = 0.5 * (A[0, 0] * X ** 2 + 2 * A[0, 1] * X * Y + A[1, 1] * Y ** 2) - b[0] * X - b[1] * Y\n",
    "\n",
    "plt.contour(X, Y, Z, levels=100)\n",
    "plt.scatter(x_min[0], x_min[1], c='r')\n",
    "plt.xlabel('x')\n",
    "plt.ylabel('y')\n",
    "plt.show()"
   ],
   "id": "df33ecc04a73c120",
   "execution_count": 113,
   "outputs": []
  },
  {
   "metadata": {
    "ExecuteTime": {
     "end_time": "2024-06-02T20:19:13.298799Z",
     "start_time": "2024-06-02T20:19:13.137017Z"
    }
   },
   "cell_type": "code",
   "source": [
    "fig = plt.figure(figsize=(14, 7))\n",
    "ax3 = fig.add_subplot(122)\n",
    "ax3.imshow(Z, extent=[-10, 10, -10, 10], origin='lower', aspect='auto')\n",
    "ax3.set_title('Surface Plot')\n",
    "ax3.scatter(x_min[0], x_min[1], c='r')\n",
    "ax3.set_xlabel('x')\n",
    "ax3.set_ylabel('y')"
   ],
   "id": "87f554ae5c0a2fe0",
   "execution_count": 114,
   "outputs": []
  },
  {
   "metadata": {},
   "cell_type": "code",
   "execution_count": null,
   "source": "",
   "id": "38842ccd725d1e7e",
   "outputs": []
  }
 ],
 "metadata": {
  "kernelspec": {
   "display_name": "Python 3",
   "language": "python",
   "name": "python3"
  },
  "language_info": {
   "codemirror_mode": {
    "name": "ipython",
    "version": 2
   },
   "file_extension": ".py",
   "mimetype": "text/x-python",
   "name": "python",
   "nbconvert_exporter": "python",
   "pygments_lexer": "ipython2",
   "version": "2.7.6"
  }
 },
 "nbformat": 4,
 "nbformat_minor": 5
}
