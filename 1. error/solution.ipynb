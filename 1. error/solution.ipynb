{
 "cells": [
  {
   "cell_type": "markdown",
   "source": [
    "![](task/1.png)"
   ],
   "metadata": {
    "collapsed": false
   }
  },
  {
   "cell_type": "code",
   "execution_count": 64,
   "outputs": [],
   "source": [
    "from sympy import *\n",
    "import numpy as np\n",
    "from numba import njit, prange\n",
    "from collections import defaultdict\n",
    "import matplotlib.pyplot as plt\n",
    "\n",
    "from itertools import product\n",
    "\n",
    "\n",
    "# 1.1.8, 1.5.2, 1.7, 1.6, 1.9.2"
   ],
   "metadata": {
    "collapsed": false
   }
  },
  {
   "cell_type": "markdown",
   "source": [
    "# Задание\n",
    "\n",
    "$$a_n = \\frac{32}{n^2+9n+20}$$\n",
    "$$S = \\sum\\limits_{n=0}^\\infty a_n$$\n",
    "$$S_N = \\sum\\limits_{n=0}^N a_n$$\n",
    "\n",
    "1. Найти сумму ряда $S$ аналитически.\n",
    "2. Найти частичные суммы ряда $S_N$ при $N = 10, 10^2, 10^3, 10^4, 10^5$.\n",
    "3. Вычислить погрешности для каждого N.\n",
    "4. Вычислить количество значащих цифр для каждого N.\n",
    "5. Построить гистограмму зависимости верных цифр результата от $N$."
   ],
   "metadata": {
    "collapsed": false
   }
  },
  {
   "cell_type": "markdown",
   "source": [
    "# Решение"
   ],
   "metadata": {
    "collapsed": false
   }
  },
  {
   "cell_type": "markdown",
   "source": [
    "## Задача 1.\n",
    "\n",
    "Найти сумму ряда $S$ аналитически."
   ],
   "metadata": {
    "collapsed": false
   }
  },
  {
   "cell_type": "markdown",
   "source": [
    "## Задача 2, 3, 4.\n",
    "\n",
    "- Найти частичные суммы ряда $S_N$ при $N = 10, 10^2, 10^3, 10^4, 10^5$.\n",
    "- Вычислить погрешности для каждого N.\n",
    "- Вычислить количество значащих цифр для каждого N.\n",
    "\n",
    "### Теоретическая справка\n",
    "\n",
    "Фото\n",
    "\n",
    "### Вычисления"
   ],
   "metadata": {
    "collapsed": false
   }
  },
  {
   "cell_type": "code",
   "execution_count": 65,
   "outputs": [],
   "source": [
    "def calculateNum(n: int):\n",
    "    return 32 / (n ** 2 + 9 * n + 20)\n",
    "\n",
    "\n",
    "def calculateSum(N: int):\n",
    "    sum = 0\n",
    "    for n in prange(N):\n",
    "        sum += calculateNum(n)\n",
    "    return sum"
   ],
   "metadata": {
    "collapsed": false
   }
  },
  {
   "cell_type": "code",
   "execution_count": 66,
   "outputs": [
    {
     "name": "stdout",
     "output_type": "stream",
     "text": [
      "5.714285714285714\t±\t2.2857142857142856 \tс 0 значащих цифр, N = 10\n",
      "7.69230769230769\t±\t0.30769230769231015 \tс 1 значащих цифр, N = 100\n",
      "7.968127490039844\t±\t0.03187250996015578 \tс 2 значащих цифр, N = 1000\n",
      "7.9968012794882295\t±\t0.003198720511770503 \tс 3 значащих цифр, N = 10000\n",
      "7.999680012799457\t±\t0.00031998720054282614 \tс 4 значащих цифр, N = 100000\n"
     ]
    }
   ],
   "source": [
    "N_list = [10 ** k for k in range(1, 6)]\n",
    "# N_list = [100]\n",
    "\n",
    "sums = {}\n",
    "errors = {}\n",
    "digits = defaultdict(int)\n",
    "exact_sum = 8\n",
    "\n",
    "for N in N_list:\n",
    "    sums[N] = calculateSum(N)\n",
    "    errors[N] = abs(sums[N] - exact_sum)\n",
    "\n",
    "for N in N_list:\n",
    "    i = -1\n",
    "    for i in range(0, 50):\n",
    "        order_of_error = 1 / (10 ** i)\n",
    "        if errors[N] <= order_of_error:\n",
    "            digits[N] += 1\n",
    "        else:\n",
    "            break\n",
    "\n",
    "for N in N_list:\n",
    "    print(f\"{sums[N]}\\t±\\t{errors[N]} \\tс {digits[N]} значащих цифр, {N = }\")"
   ],
   "metadata": {
    "collapsed": false
   }
  },
  {
   "cell_type": "markdown",
   "source": [
    "## Задача 5.\n",
    "\n",
    "Построить гистограмму зависимости верных цифр результата от $N$."
   ],
   "metadata": {
    "collapsed": false
   }
  },
  {
   "cell_type": "code",
   "execution_count": 67,
   "outputs": [
    {
     "data": {
      "text/plain": "<matplotlib.legend.Legend at 0x11cc98a50>"
     },
     "execution_count": 67,
     "metadata": {},
     "output_type": "execute_result"
    },
    {
     "data": {
      "text/plain": "<Figure size 640x480 with 1 Axes>",
      "image/png": "[encoded data removed]"
     },
     "metadata": {},
     "output_type": "display_data"
    }
   ],
   "source": [
    "keys_list = list(map(str, sums.keys()))\n",
    "errors_list = list(errors.values())\n",
    "digits_list = list(digits.values())\n",
    "\n",
    "bars = plt.barh(keys_list, errors_list, label='Погрешность')\n",
    "plt.bar_label(bars, padding=8, fontsize=9)\n",
    "plt.xlim(0, 14)\n",
    "plt.legend()\n",
    "# plt.savefig('plots/series_error.png', dpi=300)\n",
    "plt.close()\n",
    "\n",
    "bars = plt.barh(keys_list, digits_list, label='Кол-во значимых цифр')\n",
    "plt.bar_label(bars, padding=8, fontsize=9)\n",
    "plt.xlim(0, 6)\n",
    "plt.legend()\n",
    "# plt.savefig('plots/series_digits_list.png', dpi=300)"
   ],
   "metadata": {
    "collapsed": false
   }
  },
  {
   "cell_type": "markdown",
   "source": [
    "# Матрица"
   ],
   "metadata": {
    "collapsed": false
   }
  },
  {
   "cell_type": "code",
   "execution_count": 135,
   "outputs": [],
   "source": [
    "matrix = np.array([[30, 34, 19],\n",
    "                   [31.4, 35.4, 20],\n",
    "                   [24, 28, 13]])\n",
    "alpha = 0.05\n",
    "beta = 0.1"
   ],
   "metadata": {
    "collapsed": false
   }
  },
  {
   "cell_type": "code",
   "execution_count": 132,
   "outputs": [
    {
     "data": {
      "text/plain": "9.600000000000069"
     },
     "execution_count": 132,
     "metadata": {},
     "output_type": "execute_result"
    }
   ],
   "source": [
    "metrix_det = np.linalg.det(matrix)\n",
    "metrix_det\n",
    "# != => существует A^-1"
   ],
   "metadata": {
    "collapsed": false
   }
  },
  {
   "cell_type": "code",
   "execution_count": 133,
   "outputs": [],
   "source": [
    "delta = alpha"
   ],
   "metadata": {
    "collapsed": false
   }
  },
  {
   "cell_type": "code",
   "execution_count": 140,
   "outputs": [
    {
     "name": "stdout",
     "output_type": "stream",
     "text": [
      "-984.8728000000016 1027.8990000000008\n"
     ]
    },
    {
     "data": {
      "text/plain": "array([[30. , 34. , 19. ],\n       [31.4, 35.4, 20. ],\n       [24. , 28. , 13. ]])"
     },
     "execution_count": 140,
     "metadata": {},
     "output_type": "execute_result"
    }
   ],
   "source": [
    "metrix_dets = []\n",
    "for sign in list(product([-1, 1], repeat=9)):\n",
    "    new_matrix = matrix * (1 + np.array(sign).reshape(3, 3) * delta)\n",
    "    metrix_dets.append(np.linalg.det(new_matrix))\n",
    "\n",
    "m = np.min(metrix_dets)\n",
    "M = np.max(metrix_dets)\n",
    "print(m, M)\n",
    "matrix"
   ],
   "metadata": {
    "collapsed": false
   }
  },
  {
   "cell_type": "code",
   "execution_count": 141,
   "outputs": [
    {
     "name": "stdout",
     "output_type": "stream",
     "text": [
      "Определитель обращается в 0\n"
     ]
    }
   ],
   "source": [
    "if m < 0 < M:\n",
    "    print(\"Определитель обращается в 0\")\n",
    "else:\n",
    "    print(\"Определитель не обращается в 0\")"
   ],
   "metadata": {
    "collapsed": false
   }
  },
  {
   "cell_type": "code",
   "execution_count": 155,
   "outputs": [
    {
     "name": "stdout",
     "output_type": "stream",
     "text": [
      "<class 'numpy.float32'> машинный ноль = 2^-150\n",
      "<class 'numpy.float32'> машинная бесконечность = 2^128\n",
      "<class 'numpy.float32'> машинное эпсилон = 2^-24\n",
      "\n",
      "<class 'numpy.float64'> машинный ноль = 2^-1075\n",
      "<class 'numpy.float64'> машинная бесконечность = 2^1024\n",
      "<class 'numpy.float64'> машинное эпсилон = 2^-53\n",
      "\n",
      "<class 'numpy.longdouble'> машинный ноль = 2^-1075\n",
      "<class 'numpy.longdouble'> машинная бесконечность = 2^1024\n",
      "<class 'numpy.longdouble'> машинное эпсилон = 2^-53\n",
      "\n"
     ]
    },
    {
     "name": "stderr",
     "output_type": "stream",
     "text": [
      "/var/folders/hh/8pgkyy797f7941n9r5qyp10w0000gn/T/ipykernel_41397/1039496176.py:16: RuntimeWarning: overflow encountered in cast\n",
      "  num = my_type(num * 2)\n",
      "/var/folders/hh/8pgkyy797f7941n9r5qyp10w0000gn/T/ipykernel_41397/1039496176.py:16: RuntimeWarning: overflow encountered in scalar multiply\n",
      "  num = my_type(num * 2)\n"
     ]
    }
   ],
   "source": [
    "import numpy as np\n",
    "\n",
    "def print_zero(my_type):\n",
    "    k = 0\n",
    "    num = my_type(1)\n",
    "    while num != 0:\n",
    "        num = my_type(num / 2)\n",
    "        k += 1\n",
    "    print(my_type, f\"машинный ноль = 2^-{k}\")\n",
    "\n",
    "\n",
    "def print_infinity(my_type):\n",
    "    k = 0\n",
    "    num = my_type(1)\n",
    "    while num != np.inf:\n",
    "        num = my_type(num * 2)\n",
    "        k += 1\n",
    "    print(my_type, f\"машинная бесконечность = 2^{k}\")\n",
    "\n",
    "\n",
    "def print_epsilon(my_type):\n",
    "    k = 0\n",
    "    num = my_type(1)\n",
    "    while my_type(1.) + num > my_type(1.):\n",
    "        num = my_type(num / 2)\n",
    "        k += 1\n",
    "    print(my_type, f\"машинное эпсилон = 2^-{k}\")\n",
    "\n",
    "\n",
    "for my_type in [np.single, np.double, np.longdouble]:\n",
    "    print_zero(my_type)\n",
    "    print_infinity(my_type)\n",
    "    print_epsilon(my_type)\n",
    "    print()"
   ],
   "metadata": {
    "collapsed": false
   }
  }
 ],
 "metadata": {
  "kernelspec": {
   "display_name": "Python 3",
   "language": "python",
   "name": "python3"
  },
  "language_info": {
   "codemirror_mode": {
    "name": "ipython",
    "version": 2
   },
   "file_extension": ".py",
   "mimetype": "text/x-python",
   "name": "python",
   "nbconvert_exporter": "python",
   "pygments_lexer": "ipython2",
   "version": "2.7.6"
  }
 },
 "nbformat": 4,
 "nbformat_minor": 0
}
