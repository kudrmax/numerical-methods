{
 "cells": [
  {
   "metadata": {
    "ExecuteTime": {
     "end_time": "2024-06-20T10:10:02.446252Z",
     "start_time": "2024-06-20T10:10:01.159288Z"
    }
   },
   "cell_type": "code",
   "source": [
    "import numpy as np\n",
    "import matplotlib.pyplot as plt\n",
    "from scipy.interpolate import interp1d"
   ],
   "id": "1ffb354ad683de61",
   "execution_count": 2,
   "outputs": []
  },
  {
   "metadata": {
    "ExecuteTime": {
     "end_time": "2024-06-20T10:10:02.458726Z",
     "start_time": "2024-06-20T10:10:02.452144Z"
    }
   },
   "cell_type": "code",
   "source": [
    "def f(x):\n",
    "    return np.abs(x - 3) * (x ** 2 + 1)\n",
    "\n",
    "\n",
    "x_min, x_max = 0, 4"
   ],
   "id": "7287e9b13fcf7118",
   "execution_count": 3,
   "outputs": []
  },
  {
   "metadata": {
    "ExecuteTime": {
     "end_time": "2024-06-20T10:10:02.462797Z",
     "start_time": "2024-06-20T10:10:02.459804Z"
    }
   },
   "cell_type": "code",
   "source": [
    "x_list = np.arange(x_min, x_max, 0.3)\n",
    "y_list = f(x_list)"
   ],
   "id": "7d09838ac1de06da",
   "execution_count": 4,
   "outputs": []
  },
  {
   "metadata": {
    "ExecuteTime": {
     "end_time": "2024-06-20T10:10:02.577750Z",
     "start_time": "2024-06-20T10:10:02.575255Z"
    }
   },
   "cell_type": "code",
   "source": [
    "from functions import get_x_list_extended\n",
    "x_list_extended = get_x_list_extended(x_list, k=3)"
   ],
   "id": "f087677aff4c02e1",
   "execution_count": 5,
   "outputs": []
  },
  {
   "metadata": {
    "ExecuteTime": {
     "end_time": "2024-06-20T10:10:03.246915Z",
     "start_time": "2024-06-20T10:10:03.241515Z"
    }
   },
   "cell_type": "code",
   "source": [
    "def get_linear_interp(x1, x2, y1, y2, xp):\n",
    "    \"\"\"\n",
    "    Функция для вычисления значения интерполяционного многочлена\n",
    "    \"\"\"\n",
    "    if x1 <= xp <= x2:\n",
    "        yp = y1 + ((y2 - y1) / (x2 - x1)) * (xp - x1)\n",
    "        return yp\n",
    "\n",
    "\n",
    "def get_linear_interp_all(x_list, y_list):\n",
    "    \"\"\"\n",
    "    Функция, которая вычисляет приближенные значения функции при кусочно линейной интерполяции\n",
    "    \"\"\"\n",
    "    k = 3\n",
    "    x_list_linear = []\n",
    "    y_list_linear = []\n",
    "    for i in range(len(x_list) - 1):\n",
    "        d = x_list[i + 1] - x_list[i]\n",
    "        delta = d / k\n",
    "        for j in range(k):\n",
    "            x = x_list[i] + j * delta\n",
    "            y = get_linear_interp(x_list[i], x_list[i + 1], y_list[i], y_list[i + 1], x)\n",
    "\n",
    "            x_list_linear.append(x)\n",
    "            y_list_linear.append(y)\n",
    "\n",
    "    x_list_linear.append(x_list[-1])\n",
    "    y_list_linear.append(y_list[-1])\n",
    "    return x_list_linear, y_list_linear"
   ],
   "id": "446ed474cb607336",
   "execution_count": 6,
   "outputs": []
  },
  {
   "metadata": {
    "ExecuteTime": {
     "end_time": "2024-06-20T10:10:04.180825Z",
     "start_time": "2024-06-20T10:10:03.930539Z"
    }
   },
   "cell_type": "code",
   "source": "plt.scatter(x_list, y_list, s=5, c='r', zorder=2)",
   "id": "18e5f5f78d76f05e",
   "execution_count": 7,
   "outputs": []
  },
  {
   "metadata": {
    "ExecuteTime": {
     "end_time": "2024-06-20T10:10:07.833173Z",
     "start_time": "2024-06-20T10:10:07.828711Z"
    }
   },
   "cell_type": "code",
   "source": "x_list_linear, y_list_linear = get_linear_interp_all(x_list, y_list)",
   "id": "897cad493fb82e30",
   "execution_count": 8,
   "outputs": []
  },
  {
   "metadata": {
    "ExecuteTime": {
     "end_time": "2024-06-20T10:10:08.428991Z",
     "start_time": "2024-06-20T10:10:08.356203Z"
    }
   },
   "cell_type": "code",
   "source": "plt.scatter(x_list_linear, y_list_linear, s=5, c='r', zorder=2)",
   "id": "f821403d0faaaf9c",
   "execution_count": 9,
   "outputs": []
  },
  {
   "metadata": {
    "ExecuteTime": {
     "end_time": "2024-06-20T10:10:08.906537Z",
     "start_time": "2024-06-20T10:10:08.903064Z"
    }
   },
   "cell_type": "code",
   "source": [
    "from functools import cache\n",
    "\n",
    "\n",
    "@cache\n",
    "def calc_separated_differences_new(f, i1, i2):\n",
    "    \"\"\"\n",
    "    Посчитать разделенные суммы от i1 до i2 включительно\n",
    "    \"\"\"\n",
    "    k = i2 - i1\n",
    "    if k == 0:\n",
    "        assert False\n",
    "    if k == 1:\n",
    "        return (f(x_list[i1 + 1]) - f(x_list[i1])) / (x_list[i1 + 1] - x_list[i1])\n",
    "    if k >= 2:\n",
    "        f1 = calc_separated_differences_new(f, i1 + 1, i2)\n",
    "        f2 = calc_separated_differences_new(f, i1, i2 - 1)\n",
    "        return (f1 - f2) / (x_list[i2] - x_list[i1])\n",
    "\n",
    "\n",
    "def inter(f, x_list, x):\n",
    "    \"\"\"\n",
    "    Функция для вычисления интерполяционного многочлена в форме Ньютона\n",
    "    \"\"\"\n",
    "    p = f(x_list[0])\n",
    "    for k in range(1, len(x_list)):\n",
    "        w = 1\n",
    "        for j in range(k):\n",
    "            w *= x - x_list[j]\n",
    "        sep = calc_separated_differences_new(f, 0, k)\n",
    "        p += sep * w\n",
    "    return p"
   ],
   "id": "27d0542c0987e5d4",
   "execution_count": 10,
   "outputs": []
  },
  {
   "metadata": {
    "ExecuteTime": {
     "end_time": "2024-06-20T10:10:09.498590Z",
     "start_time": "2024-06-20T10:10:09.495870Z"
    }
   },
   "cell_type": "code",
   "source": "",
   "id": "59efa2e26e65fde",
   "execution_count": 10,
   "outputs": []
  },
  {
   "metadata": {
    "ExecuteTime": {
     "end_time": "2024-06-20T10:10:10.362579Z",
     "start_time": "2024-06-20T10:10:10.029116Z"
    }
   },
   "cell_type": "code",
   "source": [
    "y_list_inter = [inter(f, x_list, x) for x in get_x_list_extended(x_list, k=10)]\n",
    "plt.scatter(x_list_extended, y_list_inter, s=5, c='r', zorder=2)"
   ],
   "id": "587c1f29458941a8",
   "execution_count": 11,
   "outputs": []
  },
  {
   "metadata": {
    "ExecuteTime": {
     "end_time": "2024-06-20T10:10:22.296043Z",
     "start_time": "2024-06-20T10:10:22.169358Z"
    }
   },
   "cell_type": "code",
   "source": [
    "# plt.plot(x_list_extended, y_list_inter, c='r', zorder=1, label='newton')\n",
    "# y_list_inter = [inter(f, x_list, x) for x in x_list_extended]\n",
    "y_list_inter = [inter(f, x_list, x) for x in get_x_list_extended(x_list, k=10)]\n",
    "\n",
    "plt.plot(get_x_list_extended(x_list, k=10), y_list_inter, c='r', zorder=1, label='newton')\n",
    "plt.scatter(x_list, y_list, s=10, c='b', zorder=3, label='points')\n",
    "x_list_continious = np.arange(x_min, x_max, 0.01)\n",
    "plt.plot(x_list_continious, f(x_list_continious), c='g', label='f(x)')\n",
    "plt.legend(loc='best')"
   ],
   "id": "91e2ffb414887bdb",
   "execution_count": 13,
   "outputs": []
  },
  {
   "metadata": {
    "ExecuteTime": {
     "end_time": "2024-05-19T12:16:32.545852Z",
     "start_time": "2024-05-19T12:16:32.368301Z"
    }
   },
   "cell_type": "code",
   "source": [
    "plt.plot(x_list_extended, np.abs(f(x_list_extended) - y_list_linear), label='linear')\n",
    "plt.plot(x_list_extended, np.abs(f(x_list_extended) - y_list_inter), label='newton')\n",
    "plt.legend(loc='best')"
   ],
   "id": "94702b46821a6128",
   "execution_count": 189,
   "outputs": []
  },
  {
   "metadata": {},
   "cell_type": "code",
   "execution_count": null,
   "source": "",
   "id": "6a611ce647943759",
   "outputs": []
  }
 ],
 "metadata": {
  "kernelspec": {
   "display_name": "Python 3",
   "language": "python",
   "name": "python3"
  },
  "language_info": {
   "codemirror_mode": {
    "name": "ipython",
    "version": 2
   },
   "file_extension": ".py",
   "mimetype": "text/x-python",
   "name": "python",
   "nbconvert_exporter": "python",
   "pygments_lexer": "ipython2",
   "version": "2.7.6"
  }
 },
 "nbformat": 4,
 "nbformat_minor": 5
}
