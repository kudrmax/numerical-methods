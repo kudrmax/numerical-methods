{
 "cells": [
  {
   "metadata": {
    "ExecuteTime": {
     "end_time": "2024-11-10T13:51:35.450287Z",
     "start_time": "2024-11-10T13:51:35.442717Z"
    }
   },
   "cell_type": "code",
   "source": [
    "import numpy as np\n",
    "from scipy.integrate import quad\n",
    "import matplotlib.pyplot as plt"
   ],
   "id": "4b9118a51c7bfd4e",
   "outputs": [],
   "execution_count": 18
  },
  {
   "metadata": {
    "ExecuteTime": {
     "end_time": "2024-11-10T13:49:49.507481Z",
     "start_time": "2024-11-10T13:49:49.503142Z"
    }
   },
   "cell_type": "code",
   "source": [
    "# задать параметры системы\n",
    "eps = 1.0\n",
    "a = 1.0\n",
    "\n",
    "# задать параметры разбиения для построяние графиков\n",
    "tau = 0.5  # шаг по времени\n",
    "h = 0.5  # шаг по пространству\n",
    "T = 100.0  # максимальное время\n",
    "L = 10.0  # параметр для длины"
   ],
   "id": "a9e26ede0e828611",
   "outputs": [],
   "execution_count": 13
  },
  {
   "cell_type": "code",
   "id": "initial_id",
   "metadata": {
    "collapsed": true,
    "ExecuteTime": {
     "end_time": "2024-11-10T13:49:49.683739Z",
     "start_time": "2024-11-10T13:49:49.680225Z"
    }
   },
   "source": [
    "# задание функции решения\n",
    "\n",
    "def u_func(x, t):\n",
    "    \"\"\"Функция находит решение системы для конкретной точки (x, t)\"\"\"\n",
    "\n",
    "    def phi(x):\n",
    "        return 1 - (1 if x >= 0 else 0)\n",
    "\n",
    "    if t == 0.0:\n",
    "        return phi(x)\n",
    "    if eps == 0:\n",
    "        return phi(x - a * t)\n",
    "\n",
    "    def integrand(y, x, t, eps, a):\n",
    "        return phi(y) * np.exp(-(x - y - a * t) ** 2 / (4 * eps * t))\n",
    "\n",
    "    factor = 1 / np.sqrt(4 * np.pi * eps * t)\n",
    "    integral, error = quad(integrand, -np.inf, np.inf, args=(x, t, eps, a))\n",
    "    return factor * integral"
   ],
   "outputs": [],
   "execution_count": 14
  },
  {
   "metadata": {
    "ExecuteTime": {
     "end_time": "2024-11-10T13:50:05.606740Z",
     "start_time": "2024-11-10T13:49:49.908374Z"
    }
   },
   "cell_type": "code",
   "source": [
    "# вычисление решения\n",
    "\n",
    "x_lst = np.arange(-L, 10 * L, h)\n",
    "t_lst = np.arange(1.0, T, tau)\n",
    "u = np.empty((len(t_lst), len(x_lst)))\n",
    "for n, t in enumerate(t_lst):\n",
    "    for i, x in enumerate(x_lst):\n",
    "        u[n, i] = u_func(x, t)"
   ],
   "id": "f63d23ef1cb8bcbf",
   "outputs": [],
   "execution_count": 15
  },
  {
   "metadata": {
    "ExecuteTime": {
     "end_time": "2024-11-10T13:50:05.666719Z",
     "start_time": "2024-11-10T13:50:05.608505Z"
    }
   },
   "cell_type": "code",
   "source": [
    "# построение графика для первых нескольких шагов\n",
    "\n",
    "step_count = 100\n",
    "times_to_plot = np.arange(0, T, T / step_count)\n",
    "for t in times_to_plot[:4]:\n",
    "    n = int(t / tau)\n",
    "    plt.plot(x_lst, u[n, :], label=f't = {t:.2f}')\n",
    "plt.legend()\n",
    "plt.grid(True)\n",
    "plt.show()"
   ],
   "id": "7c72ce2a575a88e6",
   "outputs": [
    {
     "data": {
      "text/plain": [
       "<Figure size 640x480 with 1 Axes>"
      ],
      "image/png": "[encoded data removed]"
     },
     "metadata": {},
     "output_type": "display_data"
    }
   ],
   "execution_count": 16
  },
  {
   "metadata": {
    "ExecuteTime": {
     "end_time": "2024-11-10T14:01:01.364076Z",
     "start_time": "2024-11-10T14:01:01.357385Z"
    }
   },
   "cell_type": "code",
   "source": [
    "# cоздание гифки\n",
    "image_folder = 'for_gif'\n",
    "gif_path = 'animation.gif'"
   ],
   "id": "d11da655e8e809a",
   "outputs": [],
   "execution_count": 32
  },
  {
   "metadata": {
    "ExecuteTime": {
     "end_time": "2024-11-10T14:01:01.726381Z",
     "start_time": "2024-11-10T14:01:01.721865Z"
    }
   },
   "cell_type": "code",
   "source": [
    "def create_images_for_gif(image_folder: str):\n",
    "    # создать графики в папке for_gif\n",
    "    for t in t_lst:\n",
    "        n = int(t / tau)\n",
    "        if n >= u.shape[0]:\n",
    "            break\n",
    "        plt.plot(x_lst, u[n, :])\n",
    "        file_name = f'{t:012.6f}'\n",
    "        plt.title(f't = {t:.6f}')\n",
    "        plt.xlabel('x')\n",
    "        plt.ylabel('u(x)')\n",
    "        plt.grid(True)\n",
    "        plt.ylim(-0.1, 1.1)\n",
    "        plt.savefig(f'{image_folder}/{file_name}.png')\n",
    "        plt.close()"
   ],
   "id": "e280d04889e2cc57",
   "outputs": [],
   "execution_count": 33
  },
  {
   "metadata": {
    "ExecuteTime": {
     "end_time": "2024-11-10T14:01:13.829660Z",
     "start_time": "2024-11-10T14:01:02.493584Z"
    }
   },
   "cell_type": "code",
   "source": [
    "from convection_diffusion_equation.gif import create_gif\n",
    "\n",
    "create_gif(image_folder, gif_path, create_images_for_gif)"
   ],
   "id": "f2218563325a282d",
   "outputs": [],
   "execution_count": 34
  },
  {
   "metadata": {},
   "cell_type": "code",
   "outputs": [],
   "execution_count": null,
   "source": "",
   "id": "c3b51d7e8a15a9b2"
  }
 ],
 "metadata": {
  "kernelspec": {
   "display_name": "Python 3",
   "language": "python",
   "name": "python3"
  },
  "language_info": {
   "codemirror_mode": {
    "name": "ipython",
    "version": 2
   },
   "file_extension": ".py",
   "mimetype": "text/x-python",
   "name": "python",
   "nbconvert_exporter": "python",
   "pygments_lexer": "ipython2",
   "version": "2.7.6"
  }
 },
 "nbformat": 4,
 "nbformat_minor": 5
}
