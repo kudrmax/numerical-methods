{
 "cells": [
  {
   "cell_type": "markdown",
   "source": [
    "![](task/1.png)"
   ],
   "metadata": {
    "collapsed": false
   }
  },
  {
   "cell_type": "code",
   "execution_count": 54,
   "outputs": [],
   "source": [
    "from sympy import *\n",
    "import numpy as np\n",
    "from numba import njit, prange\n",
    "from collections import defaultdict\n",
    "import matplotlib.pyplot as plt\n",
    "\n",
    "# 1.1.8, 1.5.2, 1.7, 1.6, 1.9.2"
   ],
   "metadata": {
    "collapsed": false
   }
  },
  {
   "cell_type": "code",
   "execution_count": 55,
   "outputs": [],
   "source": [
    "def calculateNum(n: int):\n",
    "    return 32 / (n ** 2 + 9 * n + 20)\n",
    "\n",
    "\n",
    "def calculateSum(N: int):\n",
    "    sum = 0\n",
    "    for n in prange(N):\n",
    "        sum += calculateNum(n)\n",
    "    return sum"
   ],
   "metadata": {
    "collapsed": false
   }
  },
  {
   "cell_type": "code",
   "execution_count": 65,
   "outputs": [
    {
     "name": "stdout",
     "output_type": "stream",
     "text": [
      "5.714285714285714\t±\t2.2857142857142856 \twith 1 значащих цифр\n",
      "7.69230769230769\t±\t0.30769230769231015 \twith 2 значащих цифр\n",
      "7.968127490039844\t±\t0.03187250996015578 \twith 3 значащих цифр\n",
      "7.9968012794882295\t±\t0.003198720511770503 \twith 4 значащих цифр\n",
      "7.999680012799457\t±\t0.00031998720054282614 \twith 5 значащих цифр\n"
     ]
    }
   ],
   "source": [
    "N_list = [10 ** k for k in range(1, 6)]\n",
    "# N_list = [100]\n",
    "\n",
    "sums = {}\n",
    "errors = {}\n",
    "digits = defaultdict(int)\n",
    "exact_sum = 8\n",
    "\n",
    "for N in N_list:\n",
    "    sums[N] = calculateSum(N)\n",
    "    errors[N] = abs(sums[N] - exact_sum)\n",
    "\n",
    "for N in N_list:\n",
    "    i = -1\n",
    "    for i in range(-1, 50):\n",
    "        order_of_error = 1 / (10 ** i)\n",
    "        if errors[N] <= order_of_error:\n",
    "            digits[N] += 1\n",
    "        else:\n",
    "            break\n",
    "\n",
    "for N in N_list:\n",
    "    print(f\"{sums[N]}\\t±\\t{errors[N]} \\twith {digits[N]} значащих цифр\")"
   ],
   "metadata": {
    "collapsed": false
   }
  },
  {
   "cell_type": "code",
   "execution_count": 66,
   "outputs": [
    {
     "data": {
      "text/plain": "<matplotlib.legend.Legend at 0x16245f050>"
     },
     "execution_count": 66,
     "metadata": {},
     "output_type": "execute_result"
    },
    {
     "data": {
      "text/plain": "<Figure size 640x480 with 1 Axes>",
      "image/png": "[encoded data removed]"
     },
     "metadata": {},
     "output_type": "display_data"
    }
   ],
   "source": [
    "keys_list = list(map(str, sums.keys()))\n",
    "errors_list = list(errors.values())\n",
    "digits_list = list(digits.values())\n",
    "\n",
    "bars = plt.barh(keys_list, errors_list, label='Погрешность')\n",
    "plt.bar_label(bars, padding=8, fontsize=9)\n",
    "plt.xlim(0, 14)\n",
    "plt.legend()\n",
    "# plt.savefig('plots/series_error.png', dpi=300)\n",
    "plt.close()\n",
    "\n",
    "bars = plt.barh(keys_list, digits_list, label='Кол-во значимых цифр')\n",
    "plt.bar_label(bars, padding=8, fontsize=9)\n",
    "plt.xlim(0, 6)\n",
    "plt.legend()\n",
    "# plt.savefig('plots/series_digits_list.png', dpi=300)"
   ],
   "metadata": {
    "collapsed": false
   }
  },
  {
   "cell_type": "code",
   "execution_count": null,
   "outputs": [],
   "source": [],
   "metadata": {
    "collapsed": false
   }
  }
 ],
 "metadata": {
  "kernelspec": {
   "display_name": "Python 3",
   "language": "python",
   "name": "python3"
  },
  "language_info": {
   "codemirror_mode": {
    "name": "ipython",
    "version": 2
   },
   "file_extension": ".py",
   "mimetype": "text/x-python",
   "name": "python",
   "nbconvert_exporter": "python",
   "pygments_lexer": "ipython2",
   "version": "2.7.6"
  }
 },
 "nbformat": 4,
 "nbformat_minor": 0
}
