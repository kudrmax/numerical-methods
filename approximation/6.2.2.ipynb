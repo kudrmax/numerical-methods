{
 "cells": [
  {
   "metadata": {
    "ExecuteTime": {
     "end_time": "2024-05-20T19:55:21.321876Z",
     "start_time": "2024-05-20T19:55:20.936425Z"
    }
   },
   "cell_type": "code",
   "source": [
    "import numpy as np\n",
    "import matplotlib.pyplot as plt"
   ],
   "id": "38adaf23b49fa923",
   "execution_count": 1,
   "outputs": []
  },
  {
   "metadata": {
    "ExecuteTime": {
     "end_time": "2024-05-20T19:55:21.327727Z",
     "start_time": "2024-05-20T19:55:21.323908Z"
    }
   },
   "cell_type": "code",
   "source": "from mnk import mnk",
   "id": "c60bb4615016e8e3",
   "execution_count": 2,
   "outputs": []
  },
  {
   "cell_type": "code",
   "id": "initial_id",
   "metadata": {
    "collapsed": true,
    "ExecuteTime": {
     "end_time": "2024-05-20T19:55:21.338589Z",
     "start_time": "2024-05-20T19:55:21.330878Z"
    }
   },
   "source": [
    "t = [1.0, 1.625, 2.25, 2.88, 3.5, 4.13, 4.75, 5.375, 6]\n",
    "x = [14.86, 27.15, 41.19, 54, 69.03, 81.6, 96.11, 109.4, 124.03]"
   ],
   "execution_count": 3,
   "outputs": []
  },
  {
   "metadata": {
    "ExecuteTime": {
     "end_time": "2024-05-20T19:55:21.543218Z",
     "start_time": "2024-05-20T19:55:21.445180Z"
    }
   },
   "cell_type": "code",
   "source": "plt.scatter(t, x)",
   "id": "cd83a4bc30261d",
   "execution_count": 4,
   "outputs": []
  },
  {
   "metadata": {
    "ExecuteTime": {
     "end_time": "2024-05-20T19:55:21.928021Z",
     "start_time": "2024-05-20T19:55:21.924773Z"
    }
   },
   "cell_type": "code",
   "source": [
    "f, coeffs = mnk(np.array(t), np.array(x), higher_degree=1)\n",
    "b, v = coeffs"
   ],
   "id": "6164650c40eafec3",
   "execution_count": 5,
   "outputs": []
  },
  {
   "metadata": {
    "ExecuteTime": {
     "end_time": "2024-05-20T19:55:22.635516Z",
     "start_time": "2024-05-20T19:55:22.627466Z"
    }
   },
   "cell_type": "code",
   "source": [
    "T2 = 2 * t[-1]\n",
    "t.append(T2)\n",
    "x.append(f(T2))"
   ],
   "id": "400caf9f5efd67e9",
   "execution_count": 6,
   "outputs": []
  },
  {
   "metadata": {
    "ExecuteTime": {
     "end_time": "2024-05-20T19:55:23.177719Z",
     "start_time": "2024-05-20T19:55:23.074327Z"
    }
   },
   "cell_type": "code",
   "source": [
    "plt.scatter(t, x, c='r', label='data', zorder=10)\n",
    "plt.scatter(T2, f(T2), c='g', label='predict', zorder=10)\n",
    "plt.plot(t, f(np.array(t)), label='mnk line')\n",
    "plt.legend()"
   ],
   "id": "142cf34f079cc7b0",
   "execution_count": 7,
   "outputs": []
  },
  {
   "metadata": {
    "ExecuteTime": {
     "end_time": "2024-05-20T19:55:24.502198Z",
     "start_time": "2024-05-20T19:55:24.487667Z"
    }
   },
   "cell_type": "code",
   "source": "v",
   "id": "5f0e9afceb3de1ba",
   "execution_count": 8,
   "outputs": []
  },
  {
   "metadata": {},
   "cell_type": "code",
   "execution_count": null,
   "source": "",
   "id": "929f1cf141d01c74",
   "outputs": []
  }
 ],
 "metadata": {
  "kernelspec": {
   "display_name": "Python 3",
   "language": "python",
   "name": "python3"
  },
  "language_info": {
   "codemirror_mode": {
    "name": "ipython",
    "version": 2
   },
   "file_extension": ".py",
   "mimetype": "text/x-python",
   "name": "python",
   "nbconvert_exporter": "python",
   "pygments_lexer": "ipython2",
   "version": "2.7.6"
  }
 },
 "nbformat": 4,
 "nbformat_minor": 5
}
