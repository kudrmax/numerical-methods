{
 "cells": [
  {
   "metadata": {
    "ExecuteTime": {
     "end_time": "2024-10-25T14:28:50.755969Z",
     "start_time": "2024-10-25T14:28:50.749536Z"
    }
   },
   "cell_type": "code",
   "source": [
    "import numpy as np\n",
    "import matplotlib.pyplot as plt"
   ],
   "id": "fbcadafccce6853b",
   "outputs": [],
   "execution_count": 67
  },
  {
   "metadata": {
    "ExecuteTime": {
     "end_time": "2024-10-25T14:28:50.887903Z",
     "start_time": "2024-10-25T14:28:50.884070Z"
    }
   },
   "cell_type": "code",
   "source": [
    "UA, UB = 6, 0.6\n",
    "a, b = 0.1, 0.8\n",
    "l = b - a\n",
    "T = 14\n",
    "tau = 0.05\n",
    "h = 0.1\n",
    "\n",
    "\n",
    "def k(x):\n",
    "    return x\n",
    "\n",
    "\n",
    "def phi(x, UA, UB, a, b):\n",
    "    return ((UB - UA) * (x - a)) / (b - a) + UA\n",
    "\n",
    "\n",
    "def f(x):\n",
    "    return x + x ** (1 / 3)\n",
    "\n",
    "\n",
    "def apply_boundary_conditions(u, UA, UB, n):\n",
    "    u[n + 1, 0] = UA\n",
    "    u[n + 1, -1] = UB"
   ],
   "id": "8c7c8bec2b5330ce",
   "outputs": [],
   "execution_count": 68
  },
  {
   "metadata": {
    "ExecuteTime": {
     "end_time": "2024-10-25T14:29:23.228364Z",
     "start_time": "2024-10-25T14:29:23.220606Z"
    }
   },
   "cell_type": "code",
   "source": [
    "def get_solution(a, b, UA, UB, h, tau, T, phi, k, f, apply_boundary_conditions):\n",
    "    x = np.arange(a, b + h, h)\n",
    "    t = np.arange(0, T + tau, tau)\n",
    "\n",
    "    u = np.zeros((len(t), len(x)))\n",
    "    u[0, :] = phi(x, UA, UB, a, b)\n",
    "\n",
    "    for n in range(0, len(t) - 1):\n",
    "        for i in range(1, len(x) - 1):\n",
    "            k_right = k(x[i + 1])\n",
    "            k_middle = k(x[i])\n",
    "            k_left = k(x[i - 1])\n",
    "\n",
    "            u[n + 1, i] = u[n, i] + tau * (\n",
    "                    ((k_right - k_left) * (u[n, i + 1] - u[n, i - 1])) / (4 * h ** 2) +\n",
    "                    k_middle * ((u[n, i + 1] - 2 * u[n, i] + u[n, i - 1]) / (h ** 2)) +\n",
    "                    f(x[i]) * (1 - np.exp(-t[n]))\n",
    "            )\n",
    "\n",
    "        apply_boundary_conditions(u, UA, UB, n)\n",
    "\n",
    "    return u, x"
   ],
   "id": "c69316f77dae9cee",
   "outputs": [],
   "execution_count": 72
  },
  {
   "metadata": {
    "ExecuteTime": {
     "end_time": "2024-10-25T14:29:25.733640Z",
     "start_time": "2024-10-25T14:29:25.722653Z"
    }
   },
   "cell_type": "code",
   "source": "u, x = get_solution(a, b, UA, UB, h, tau, T, phi, k, f, apply_boundary_conditions)",
   "id": "20c455fdc3217700",
   "outputs": [],
   "execution_count": 73
  },
  {
   "metadata": {
    "ExecuteTime": {
     "end_time": "2024-10-25T14:31:39.104399Z",
     "start_time": "2024-10-25T14:31:39.030135Z"
    }
   },
   "cell_type": "code",
   "source": [
    "times_to_plot = [0.5 * tau, 10 * tau, 20 * tau]\n",
    "times_to_plot = [30 * tau]\n",
    "for t in times_to_plot:\n",
    "    n = int(t / tau)\n",
    "    plt.plot(x, u[n, :], label=f't = {t:.2f}')\n",
    "plt.legend()\n",
    "plt.grid(True)\n",
    "plt.show()"
   ],
   "id": "d31aac1dadbc5866",
   "outputs": [
    {
     "data": {
      "text/plain": [
       "<Figure size 640x480 with 1 Axes>"
      ],
      "image/png": "[encoded data removed]"
     },
     "metadata": {},
     "output_type": "display_data"
    }
   ],
   "execution_count": 88
  },
  {
   "metadata": {
    "ExecuteTime": {
     "end_time": "2024-10-25T14:38:39.772731Z",
     "start_time": "2024-10-25T14:38:23.818102Z"
    }
   },
   "cell_type": "code",
   "source": [
    "u, x = get_solution(a, b, UA, UB, h, tau, T, phi, k, f, apply_boundary_conditions)\n",
    "for n in range(u.shape[0]):\n",
    "    # n = int(t / tau)\n",
    "    t = n * tau\n",
    "    plt.plot(x, u[n, :])\n",
    "    plt.title(f't = {t:.2f}')\n",
    "    plt.grid(True)\n",
    "    \n",
    "    plt.xlabel('x')\n",
    "    plt.ylabel('u(x)')\n",
    "    plt.savefig(f'for_gif/{t:.6f}.png')\n",
    "    plt.close()"
   ],
   "id": "41ef0e19d420ea2d",
   "outputs": [],
   "execution_count": 96
  },
  {
   "metadata": {
    "ExecuteTime": {
     "end_time": "2024-10-25T14:36:49.600447Z",
     "start_time": "2024-10-25T14:36:49.230897Z"
    }
   },
   "cell_type": "code",
   "source": [
    "# создание gif\n",
    "\n",
    "import imageio\n",
    "import os\n",
    "\n",
    "image_folder = 'for_gif'\n",
    "gif_path = 'animation.gif'\n",
    "\n",
    "images = []\n",
    "for file_name in sorted(os.listdir(image_folder), reverse=True):\n",
    "    if file_name.endswith('.png'):\n",
    "        file_path = os.path.join(image_folder, file_name)\n",
    "        images.append(imageio.imread(file_path))\n",
    "        \n",
    "imageio.mimsave(gif_path, images, duration=0.5)"
   ],
   "id": "8ee4e90f87f5edb6",
   "outputs": [
    {
     "name": "stderr",
     "output_type": "stream",
     "text": [
      "/var/folders/nr/0_xrsq994hj6_tw7mg66z3vw0000gn/T/ipykernel_63089/856822187.py:13: DeprecationWarning: Starting with ImageIO v3 the behavior of this function will switch to that of iio.v3.imread. To keep the current behavior (and make this warning disappear) use `import imageio.v2 as imageio` or call `imageio.v2.imread` directly.\n",
      "  images.append(imageio.imread(file_path))\n"
     ]
    }
   ],
   "execution_count": 94
  },
  {
   "metadata": {},
   "cell_type": "code",
   "outputs": [],
   "execution_count": null,
   "source": "",
   "id": "a87c7935450effbf"
  }
 ],
 "metadata": {
  "kernelspec": {
   "display_name": "Python 3",
   "language": "python",
   "name": "python3"
  },
  "language_info": {
   "codemirror_mode": {
    "name": "ipython",
    "version": 2
   },
   "file_extension": ".py",
   "mimetype": "text/x-python",
   "name": "python",
   "nbconvert_exporter": "python",
   "pygments_lexer": "ipython2",
   "version": "2.7.6"
  }
 },
 "nbformat": 4,
 "nbformat_minor": 5
}
