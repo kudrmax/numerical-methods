{
 "cells": [
  {
   "metadata": {
    "ExecuteTime": {
     "end_time": "2024-06-20T09:37:54.684428Z",
     "start_time": "2024-06-20T09:37:54.518539Z"
    }
   },
   "cell_type": "code",
   "source": "import numpy as np",
   "id": "b3710214ddd4e0ab",
   "execution_count": 1,
   "outputs": []
  },
  {
   "metadata": {
    "ExecuteTime": {
     "end_time": "2024-06-20T09:37:54.693424Z",
     "start_time": "2024-06-20T09:37:54.686903Z"
    }
   },
   "cell_type": "code",
   "source": [
    "def f(x):\n",
    "    return np.sin(x) - 2 * np.cos(x)\n",
    "\n",
    "\n",
    "def df(x):\n",
    "    return np.cos(x) + 2 * np.sin(x)\n",
    "\n",
    "\n",
    "def ddf(x):\n",
    "    return -np.sin(x) + 2 * np.cos(x)"
   ],
   "id": "f4c8cb72acf98ef7",
   "execution_count": 2,
   "outputs": []
  },
  {
   "cell_type": "code",
   "id": "initial_id",
   "metadata": {
    "collapsed": true,
    "ExecuteTime": {
     "end_time": "2024-06-20T09:40:38.225336Z",
     "start_time": "2024-06-20T09:40:38.203011Z"
    }
   },
   "source": [
    "def newton_method(f, df, ddf, a, b, eps):\n",
    "    x = (a + b) / 2\n",
    "    iterations = 0\n",
    "\n",
    "    while True:\n",
    "        iterations += 1\n",
    "        x_new = x - df(x) / ddf(x)\n",
    "        if abs(x_new - x) < eps:\n",
    "            break\n",
    "        x = x_new\n",
    "    return x_new, iterations\n",
    "\n",
    "\n",
    "a, b = 1, 4\n",
    "eps = 1e-6\n",
    "\n",
    "x, iterations = newton_method(f, df, ddf, a, b, eps)\n",
    "y = f(x)\n",
    "\n",
    "print(f\"Экстремум функции достигается в x = {x}, f(x) = {y}, iterations = {iterations}\")"
   ],
   "execution_count": 6,
   "outputs": []
  },
  {
   "metadata": {
    "ExecuteTime": {
     "end_time": "2024-06-20T09:40:44.321075Z",
     "start_time": "2024-06-20T09:40:44.205808Z"
    }
   },
   "cell_type": "code",
   "source": [
    "import matplotlib.pyplot as plt\n",
    "\n",
    "x_list = np.arange(a, b, 0.1)\n",
    "plt.plot(x_list, f(x_list), label=\"f(x)\")\n",
    "plt.scatter(x, y, c='r', zorder=2, label='extremum point')\n",
    "plt.grid(True)\n",
    "plt.legend()"
   ],
   "id": "715fae8999759f66",
   "execution_count": 7,
   "outputs": []
  },
  {
   "metadata": {},
   "cell_type": "code",
   "execution_count": null,
   "source": "",
   "id": "25182a91ce7da16b",
   "outputs": []
  }
 ],
 "metadata": {
  "kernelspec": {
   "display_name": "Python 3",
   "language": "python",
   "name": "python3"
  },
  "language_info": {
   "codemirror_mode": {
    "name": "ipython",
    "version": 2
   },
   "file_extension": ".py",
   "mimetype": "text/x-python",
   "name": "python",
   "nbconvert_exporter": "python",
   "pygments_lexer": "ipython2",
   "version": "2.7.6"
  }
 },
 "nbformat": 4,
 "nbformat_minor": 5
}
