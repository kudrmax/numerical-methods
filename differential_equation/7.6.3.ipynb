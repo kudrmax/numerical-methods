{
 "cells": [
  {
   "cell_type": "code",
   "id": "initial_id",
   "metadata": {
    "collapsed": true,
    "ExecuteTime": {
     "end_time": "2024-06-20T09:49:40.008221Z",
     "start_time": "2024-06-20T09:49:39.563481Z"
    }
   },
   "source": [
    "import numpy as np\n",
    "import matplotlib.pyplot as plt"
   ],
   "execution_count": 1,
   "outputs": []
  },
  {
   "metadata": {
    "ExecuteTime": {
     "end_time": "2024-06-20T09:49:40.494147Z",
     "start_time": "2024-06-20T09:49:40.491338Z"
    }
   },
   "cell_type": "code",
   "source": [
    "A = np.array([[-0.717, -23.827], [114.483, -640.393]])\n",
    "Y0 = np.array([1.0, 2.0])\n",
    "B = np.array([[-1.905, -0.015], [-0.13, -2.295]])\n",
    "Z0 = np.array([1.0, 0.0])\n",
    "\n",
    "t0, t1 = 0.0, 1.0\n",
    "h = 0.01"
   ],
   "id": "8f6f6ef6e3218eb2",
   "execution_count": 2,
   "outputs": []
  },
  {
   "metadata": {
    "ExecuteTime": {
     "end_time": "2024-06-20T09:49:42.234354Z",
     "start_time": "2024-06-20T09:49:42.226984Z"
    }
   },
   "cell_type": "code",
   "source": [
    "def euler(A, Y0, t0, t1, h):\n",
    "    \"\"\"\n",
    "    Функция, решающяя дифференциальное уравнение через метод Эйлера\n",
    "    \"\"\"\n",
    "    t_arr = np.arange(t0, t1 + h, h)\n",
    "    y_arr = np.zeros((len(t_arr), len(Y0)))\n",
    "    y_arr[0] = Y0\n",
    "\n",
    "    for i in range(0, len(t_arr) - 1):  # вычисляем y в точках разбиения\n",
    "        y_arr[i + 1] = y_arr[i] + h * (np.dot(A, y_arr[i]))\n",
    "    return t_arr, y_arr"
   ],
   "id": "2e91b383a9498bd5",
   "execution_count": 3,
   "outputs": []
  },
  {
   "metadata": {
    "ExecuteTime": {
     "end_time": "2024-06-20T09:49:42.948038Z",
     "start_time": "2024-06-20T09:49:42.943728Z"
    }
   },
   "cell_type": "code",
   "source": [
    "t_y, y = euler(A, Y0, t0, t1, h)\n",
    "t_z, z = euler(B, Z0, t0, t1, h)"
   ],
   "id": "e504402b74ac4c29",
   "execution_count": 4,
   "outputs": []
  },
  {
   "metadata": {
    "ExecuteTime": {
     "end_time": "2024-06-20T09:49:43.543507Z",
     "start_time": "2024-06-20T09:49:43.345108Z"
    }
   },
   "cell_type": "code",
   "source": [
    "plt.plot(t_y, y[:, 0], label='Y1 (A)')\n",
    "plt.plot(t_y, y[:, 1], label='Y2 (A)')\n",
    "plt.title('Y(t)')\n",
    "plt.xlabel('t')\n",
    "plt.ylabel('Y(t)')\n",
    "plt.legend()\n",
    "plt.grid(True)\n",
    "plt.show()"
   ],
   "id": "ee86ff84d93d9922",
   "execution_count": 5,
   "outputs": []
  },
  {
   "metadata": {
    "ExecuteTime": {
     "end_time": "2024-06-20T09:49:45.323582Z",
     "start_time": "2024-06-20T09:49:45.232571Z"
    }
   },
   "cell_type": "code",
   "source": [
    "plt.plot(t_z, z[:, 0], label='Z1 (B)')\n",
    "plt.plot(t_z, z[:, 1], label='Z2 (B)')\n",
    "plt.title('Z(t)')\n",
    "plt.xlabel('t')\n",
    "plt.ylabel('Z(t)')\n",
    "plt.legend()\n",
    "plt.grid(True)\n",
    "plt.show()"
   ],
   "id": "ffe8ac49b895a01",
   "execution_count": 6,
   "outputs": []
  },
  {
   "metadata": {
    "ExecuteTime": {
     "end_time": "2024-06-20T09:49:50.998755Z",
     "start_time": "2024-06-20T09:49:50.985943Z"
    }
   },
   "cell_type": "code",
   "source": [
    "def is_stability(A, h):\n",
    "    \"\"\"\n",
    "    Функция для определя является ли задача Коши устойчивой\n",
    "    \"\"\"\n",
    "    lambdas = np.linalg.eigvals(A)\n",
    "    re_of_lambdas = np.real(lambdas)\n",
    "    max_lambda = np.abs(re_of_lambdas).max()\n",
    "    return h < (2 / max_lambda)"
   ],
   "id": "65bbd38b6e5146a0",
   "execution_count": 7,
   "outputs": []
  },
  {
   "metadata": {
    "ExecuteTime": {
     "end_time": "2024-06-20T09:49:52.295320Z",
     "start_time": "2024-06-20T09:49:52.288381Z"
    }
   },
   "cell_type": "code",
   "source": [
    "print(f'Явный метод Эйлера устойчив для Y? {is_stability(A, h)}')\n",
    "print(f'Явный метод Эйлера устойчив для Z? {is_stability(B, h)}')"
   ],
   "id": "557f1841829dfb7e",
   "execution_count": 8,
   "outputs": []
  },
  {
   "metadata": {
    "ExecuteTime": {
     "end_time": "2024-06-17T12:34:26.189492Z",
     "start_time": "2024-06-17T12:34:26.187188Z"
    }
   },
   "cell_type": "code",
   "source": [
    "def is_stiff(A):\n",
    "    \"\"\"\n",
    "    Функция для определения является ли задача жесткой\n",
    "    Определение жесткости со страницы 239 учебника (формула 14.130)\n",
    "    \"\"\"\n",
    "    lambdas = np.linalg.eigvals(A)\n",
    "    re_of_lambdas = np.real(lambdas)\n",
    "    s = np.abs(re_of_lambdas).max() / np.abs(re_of_lambdas).min()\n",
    "    return s"
   ],
   "id": "2c083cc9dfecaafb",
   "execution_count": 11,
   "outputs": []
  },
  {
   "metadata": {
    "ExecuteTime": {
     "end_time": "2024-06-17T12:34:26.353021Z",
     "start_time": "2024-06-17T12:34:26.350935Z"
    }
   },
   "cell_type": "code",
   "source": [
    "print(f'Коэффициентом жесткости задачи Y = {is_stiff(A)}')\n",
    "print(f'Коэффициентом жесткости задачи Z = {is_stiff(B)}')"
   ],
   "id": "7a702d3ff05d1116",
   "execution_count": 12,
   "outputs": []
  },
  {
   "metadata": {},
   "cell_type": "markdown",
   "source": "Если коэффициент >> 1, то считаем задачу жесткой. В нашем случае жесткой является задача Y.",
   "id": "91a4c16d17e3b24"
  },
  {
   "metadata": {
    "ExecuteTime": {
     "end_time": "2024-06-17T12:34:27.694859Z",
     "start_time": "2024-06-17T12:34:27.691878Z"
    }
   },
   "cell_type": "code",
   "source": [
    "def find_h(A, h):\n",
    "    \"\"\"\n",
    "    Бинарый поиск для поиска наибольшего h, при котором явный метод Эйлера будет устойчив.\n",
    "    \"\"\"\n",
    "    left_h, right_h = 0, h\n",
    "    while right_h - left_h > 1e-6:\n",
    "        middle_h = (left_h + right_h) / 2\n",
    "        if is_stability(A, middle_h):\n",
    "            left_h = middle_h\n",
    "        else:\n",
    "            right_h = middle_h\n",
    "    return left_h"
   ],
   "id": "58bb90b7cae7feb",
   "execution_count": 13,
   "outputs": []
  },
  {
   "metadata": {
    "ExecuteTime": {
     "end_time": "2024-06-17T12:34:28.365802Z",
     "start_time": "2024-06-17T12:34:28.362525Z"
    }
   },
   "cell_type": "code",
   "source": "print(f\"При h = {find_h(A, h)} явный метод Эйлера будет устойчив\")",
   "id": "e011eb14fb27eb6d",
   "execution_count": 14,
   "outputs": []
  },
  {
   "metadata": {
    "ExecuteTime": {
     "end_time": "2024-06-17T12:34:30.301159Z",
     "start_time": "2024-06-17T12:34:30.296016Z"
    }
   },
   "cell_type": "code",
   "source": [
    "# побредем теоретически\n",
    "lambdas = np.linalg.eigvals(A)\n",
    "re_of_lambdas = np.real(lambdas)\n",
    "max_lambda = np.abs(re_of_lambdas).max()\n",
    "max_h = 2 / max_lambda\n",
    "print(f\"При h = {max_h} явный метод Эйлера будет устойчив\")"
   ],
   "id": "6e5f41c243691fe3",
   "execution_count": 15,
   "outputs": []
  },
  {
   "metadata": {
    "ExecuteTime": {
     "end_time": "2024-06-17T12:45:11.724140Z",
     "start_time": "2024-06-17T12:45:11.703653Z"
    }
   },
   "cell_type": "code",
   "source": [
    "def euler2(A, Y0, t0, t1, h):\n",
    "    \"\"\"\n",
    "    Функция, решающяя дифференциальное уравнение через неявный метод Эйлера\n",
    "    \"\"\"\n",
    "    t_arr = np.arange(t0, t1 + h, h)\n",
    "    y_arr = np.zeros((len(t_arr), len(Y0)))\n",
    "    y_arr[0] = Y0\n",
    "    E = np.eye(len(A))\n",
    "\n",
    "    for i in range(0, len(t_arr) - 1):  # вычисляем y в точках разбиения\n",
    "        # y_arr[i + 1] = y_arr[i] + h * (np.dot(A, y_arr[i + 1]))\n",
    "        y_arr[i + 1] = np.linalg.solve(E - h * A, y_arr[i])\n",
    "    return t_arr, y_arr"
   ],
   "id": "60fd9dbc935c6fae",
   "execution_count": 22,
   "outputs": []
  },
  {
   "metadata": {
    "ExecuteTime": {
     "end_time": "2024-06-17T12:45:12.272727Z",
     "start_time": "2024-06-17T12:45:12.267038Z"
    }
   },
   "cell_type": "code",
   "source": "t_y, y = euler2(A, Y0, t0, t1, h)",
   "id": "ad9c2264da5e4818",
   "execution_count": 23,
   "outputs": []
  },
  {
   "metadata": {
    "ExecuteTime": {
     "end_time": "2024-06-17T12:45:12.522230Z",
     "start_time": "2024-06-17T12:45:12.429629Z"
    }
   },
   "cell_type": "code",
   "source": [
    "plt.plot(t_y, y[:, 0], label='Y1 (A)')\n",
    "plt.plot(t_y, y[:, 1], label='Y2 (A)')\n",
    "plt.title('Y(t)')\n",
    "plt.xlabel('t')\n",
    "plt.ylabel('Y(t)')\n",
    "plt.legend()\n",
    "plt.grid(True)\n",
    "plt.show()"
   ],
   "id": "cb1148afaa03f10b",
   "execution_count": 24,
   "outputs": []
  },
  {
   "metadata": {},
   "cell_type": "markdown",
   "source": "Подбор h для явного метода",
   "id": "9ec874f03e71d822"
  },
  {
   "metadata": {
    "ExecuteTime": {
     "end_time": "2024-06-17T12:46:37.084176Z",
     "start_time": "2024-06-17T12:46:30.535410Z"
    }
   },
   "cell_type": "code",
   "source": [
    "for h_step in np.linspace(0.01, 0.00001, 100):\n",
    "    t_y, y = euler(A, Y0, t0, t1, h=h_step)\n",
    "    plt.plot(t_y, y[:, 0], label='Y1 (A)')\n",
    "    plt.plot(t_y, y[:, 1], label='Y2 (A)')\n",
    "    plt.title(f'Y(t), h={h_step:.6f}')\n",
    "    plt.xlabel('t')\n",
    "    plt.ylabel('Y(t)')\n",
    "    plt.ylim(-4, 4)\n",
    "    plt.legend()\n",
    "    plt.grid(True)\n",
    "    plt.savefig(f'for_gif/{h_step:.6f}.png')\n",
    "    plt.close()"
   ],
   "id": "e29e1aabdc02054",
   "execution_count": 25,
   "outputs": []
  },
  {
   "metadata": {
    "ExecuteTime": {
     "end_time": "2024-06-17T12:46:40.168425Z",
     "start_time": "2024-06-17T12:46:38.192779Z"
    }
   },
   "cell_type": "code",
   "source": [
    "# создание gif\n",
    "\n",
    "import imageio\n",
    "import os\n",
    "\n",
    "image_folder = 'for_gif'\n",
    "gif_path = 'animation.gif'\n",
    "\n",
    "images = []\n",
    "for file_name in sorted(os.listdir(image_folder), reverse=True):\n",
    "    if file_name.endswith('.png'):\n",
    "        file_path = os.path.join(image_folder, file_name)\n",
    "        images.append(imageio.imread(file_path))\n",
    "        \n",
    "imageio.mimsave(gif_path, images, duration=0.5)"
   ],
   "id": "7aba5082be032563",
   "execution_count": 26,
   "outputs": []
  },
  {
   "metadata": {},
   "cell_type": "markdown",
   "source": "h = 0.001",
   "id": "7d54f3898722fb9c"
  },
  {
   "metadata": {
    "ExecuteTime": {
     "end_time": "2024-06-17T12:47:18.859933Z",
     "start_time": "2024-06-17T12:47:18.685535Z"
    }
   },
   "cell_type": "code",
   "source": [
    "t_y, y = euler(A, Y0, t0, t1, h=0.001)\n",
    "plt.plot(t_y, y[:, 0], label='Y1 (A)')\n",
    "plt.plot(t_y, y[:, 1], label='Y2 (A)')\n",
    "# plt.title(f'Y(t), h={h_step:.6f}')\n",
    "plt.xlabel('t')\n",
    "plt.ylabel('Y(t)')\n",
    "plt.legend()\n",
    "plt.grid(True)"
   ],
   "id": "f1ba997fad3bf254",
   "execution_count": 30,
   "outputs": []
  },
  {
   "metadata": {},
   "cell_type": "code",
   "execution_count": null,
   "source": "",
   "id": "1179d3240ef8f6e",
   "outputs": []
  }
 ],
 "metadata": {
  "kernelspec": {
   "display_name": "Python 3",
   "language": "python",
   "name": "python3"
  },
  "language_info": {
   "codemirror_mode": {
    "name": "ipython",
    "version": 2
   },
   "file_extension": ".py",
   "mimetype": "text/x-python",
   "name": "python",
   "nbconvert_exporter": "python",
   "pygments_lexer": "ipython2",
   "version": "2.7.6"
  }
 },
 "nbformat": 4,
 "nbformat_minor": 5
}
