{
 "cells": [
  {
   "metadata": {
    "ExecuteTime": {
     "end_time": "2024-10-17T13:09:01.181350Z",
     "start_time": "2024-10-17T13:09:01.175021Z"
    }
   },
   "cell_type": "code",
   "source": [
    "import numpy as np\n",
    "import matplotlib.pyplot as plt"
   ],
   "id": "1b2d06a1f2472d2c",
   "execution_count": 258,
   "outputs": []
  },
  {
   "metadata": {
    "ExecuteTime": {
     "end_time": "2024-10-17T13:09:01.845913Z",
     "start_time": "2024-10-17T13:09:01.842234Z"
    }
   },
   "cell_type": "code",
   "source": [
    "lx = np.pi / 3  # 0 < x < pi/3\n",
    "ly = np.pi / 2  # 0 < x < pi/2\n",
    "t_max = 0.1\n",
    "\n",
    "nx = 20  # кол-во шагов по x\n",
    "ny = 20  # кол-во шагов по y\n",
    "nt = 100  # число шагов по t\n",
    "\n",
    "dx = lx / nx  # шаг по x\n",
    "dy = ly / ny  # шаг по y\n",
    "dt = t_max / nt  # шаг по времени\n",
    "\n",
    "x = np.linspace(0, lx, nx + 1)\n",
    "y = np.linspace(0, ly, ny + 1)\n",
    "U = np.zeros((nx + 1, ny + 1))"
   ],
   "id": "e10f35177f85c6ed",
   "execution_count": 259,
   "outputs": []
  },
  {
   "metadata": {
    "ExecuteTime": {
     "end_time": "2024-10-17T13:09:02.082222Z",
     "start_time": "2024-10-17T13:09:02.077924Z"
    }
   },
   "cell_type": "code",
   "source": [
    "# граничные и начальные условия\n",
    "\n",
    "def condition_by_t(x, y):\n",
    "    \"\"\"Условия при t=0\"\"\"\n",
    "    return np.cos(3 * x) * np.sin(4 * y)\n",
    "\n",
    "\n",
    "def condition_by_y(U):\n",
    "    \"\"\"Условия при y=0 и y=pi/2\"\"\"\n",
    "    U[:, 0] = 0\n",
    "    U[:, ny] = 0\n",
    "    return U\n",
    "\n",
    "\n",
    "def condition_by_x(U):\n",
    "    \"\"\"Условия при du/dx=0 при x=0 и du/dx=0 при x=pi/3\"\"\"\n",
    "    U[0, :] = U[1, :]\n",
    "    U[nx, :] = U[nx - 1, :]\n",
    "    return U"
   ],
   "id": "1c18e9285dfa0727",
   "execution_count": 260,
   "outputs": []
  },
  {
   "metadata": {
    "ExecuteTime": {
     "end_time": "2024-10-17T13:09:02.282010Z",
     "start_time": "2024-10-17T13:09:02.277682Z"
    }
   },
   "cell_type": "code",
   "source": [
    "def thomas(a, b, c, d):\n",
    "    \"\"\"Метод прогонки\"\"\"\n",
    "    N = len(d)\n",
    "    alpha = np.zeros(N)\n",
    "    betta = np.zeros(N)\n",
    "    x = np.zeros(N)\n",
    "\n",
    "    # прямой ход\n",
    "    alpha[0] = -c[0] / b[0]\n",
    "    betta[0] = d[0] / b[0]\n",
    "\n",
    "    for i in range(1, N):\n",
    "        alpha[i] = -c[i] / (b[i] + a[i] * alpha[i - 1])\n",
    "        betta[i] = (d[i] - a[i] * betta[i - 1]) / (b[i] + a[i] * alpha[i - 1])\n",
    "\n",
    "    # обратный ход\n",
    "    x[-1] = betta[-1]\n",
    "    for i in range(N - 2, -1, -1):\n",
    "        x[i] = alpha[i] * x[i + 1] + betta[i]\n",
    "\n",
    "    return x"
   ],
   "id": "initial_id",
   "execution_count": 261,
   "outputs": []
  },
  {
   "metadata": {
    "ExecuteTime": {
     "end_time": "2024-10-17T13:09:02.641345Z",
     "start_time": "2024-10-17T13:09:02.636424Z"
    }
   },
   "cell_type": "code",
   "source": [
    "def method(U):\n",
    "    for n in range(1, nt):\n",
    "        alpha_x = dt / (2 * dx ** 2)\n",
    "        alpha_y = dt / (2 * dy ** 2)\n",
    "    \n",
    "        # цикл по x при фиксированном y\n",
    "        U = condition_by_x(U)\n",
    "        for j in range(1, ny):\n",
    "            a = -alpha_x * np.ones(nx - 1)\n",
    "            b = (1 + 2 * alpha_x) * np.ones(nx - 1)\n",
    "            c = -alpha_x * np.ones(nx - 1)\n",
    "            d = U[1:nx, j] + alpha_y * (U[1:nx, j + 1] - 2 * U[1:nx, j] + U[1:nx, j - 1])\n",
    "            U[1:nx, j] = thomas(a, b, c, d)\n",
    "    \n",
    "        # цикл по y при фиксированном x\n",
    "        U = condition_by_y(U)\n",
    "        for i in range(1, nx):\n",
    "            a = -alpha_y * np.ones(ny - 1)\n",
    "            b = (1 + 2 * alpha_y) * np.ones(ny - 1)\n",
    "            c = -alpha_y * np.ones(ny - 1)\n",
    "            d = U[i, 1:ny] + alpha_x * (U[i + 1, 1:ny] - 2 * U[i, 1:ny] + U[i - 1, 1:ny])\n",
    "            U[i, 1:ny] = thomas(a, b, c, d)\n",
    "    return U"
   ],
   "id": "b234f66e84595a1c",
   "execution_count": 262,
   "outputs": []
  },
  {
   "metadata": {
    "ExecuteTime": {
     "end_time": "2024-10-17T13:09:03.220321Z",
     "start_time": "2024-10-17T13:09:03.115859Z"
    }
   },
   "cell_type": "code",
   "source": [
    "# начальные условия\n",
    "for i in range(nx + 1):\n",
    "    for j in range(ny + 1):\n",
    "        U[i, j] = condition_by_t(x[i], y[j])\n",
    "U = method(U)"
   ],
   "id": "4770a5b874d97b54",
   "execution_count": 263,
   "outputs": []
  },
  {
   "metadata": {
    "ExecuteTime": {
     "end_time": "2024-10-17T13:09:03.529068Z",
     "start_time": "2024-10-17T13:09:03.431242Z"
    }
   },
   "cell_type": "code",
   "source": [
    "X, Y = np.meshgrid(x, y)\n",
    "plt.contourf(X, Y, U.T, 20)\n",
    "plt.colorbar()\n",
    "plt.xlabel('x')\n",
    "plt.ylabel('y')\n",
    "plt.show()"
   ],
   "id": "191cf4a63eca73d0",
   "execution_count": 264,
   "outputs": []
  },
  {
   "metadata": {
    "ExecuteTime": {
     "end_time": "2024-10-17T13:09:04.529012Z",
     "start_time": "2024-10-17T13:09:04.519578Z"
    }
   },
   "cell_type": "code",
   "source": "U",
   "id": "85f4fb819ee998ce",
   "execution_count": 265,
   "outputs": []
  }
 ],
 "metadata": {
  "kernelspec": {
   "display_name": "Python 3",
   "language": "python",
   "name": "python3"
  },
  "language_info": {
   "codemirror_mode": {
    "name": "ipython",
    "version": 2
   },
   "file_extension": ".py",
   "mimetype": "text/x-python",
   "name": "python",
   "nbconvert_exporter": "python",
   "pygments_lexer": "ipython2",
   "version": "2.7.6"
  }
 },
 "nbformat": 4,
 "nbformat_minor": 5
}
