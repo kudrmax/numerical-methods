{
 "cells": [
  {
   "cell_type": "code",
   "id": "initial_id",
   "metadata": {
    "collapsed": true,
    "ExecuteTime": {
     "end_time": "2024-06-02T17:56:50.118619Z",
     "start_time": "2024-06-02T17:56:50.089012Z"
    }
   },
   "source": "import numpy as np",
   "execution_count": 52,
   "outputs": []
  },
  {
   "metadata": {
    "ExecuteTime": {
     "end_time": "2024-06-02T17:56:50.440630Z",
     "start_time": "2024-06-02T17:56:50.436370Z"
    }
   },
   "cell_type": "code",
   "source": [
    "def f(x):\n",
    "    return np.exp(np.cos(3 * x))\n",
    "\n",
    "\n",
    "x_min, x_max = 0, np.pi"
   ],
   "id": "540d368b37439164",
   "execution_count": 53,
   "outputs": []
  },
  {
   "metadata": {
    "ExecuteTime": {
     "end_time": "2024-06-02T17:56:52.980572Z",
     "start_time": "2024-06-02T17:56:52.968809Z"
    }
   },
   "cell_type": "code",
   "source": [
    "k = 20\n",
    "multiplier = 1\n",
    "x_list_uniform = np.linspace(x_min, x_max, 1 * k)\n",
    "x_list_chebyshev = (0.5 * (x_min + x_max) +\n",
    "                    0.5 * (x_max - x_min) * np.cos(\n",
    "                    (2 * np.arange(1, multiplier * k + 1) - 1) / (2 * multiplier * k) * np.pi))\n",
    "\n",
    "x_list_extended = np.linspace(x_min, x_max, 3 * k)\n",
    "y_list_extended = f(x_list_extended)"
   ],
   "id": "8b3e4d7369d1fbb5",
   "execution_count": 54,
   "outputs": []
  },
  {
   "metadata": {
    "ExecuteTime": {
     "end_time": "2024-06-02T17:56:53.674943Z",
     "start_time": "2024-06-02T17:56:53.670546Z"
    }
   },
   "cell_type": "code",
   "source": [
    "from functools import cache, lru_cache\n",
    "\n",
    "\n",
    "@cache\n",
    "def calc_separated_differences_new(f, i1, i2):\n",
    "    \"\"\"\n",
    "    Посчитать разделенные суммы от i1 до i2 включительно\n",
    "    \"\"\"\n",
    "    k = i2 - i1\n",
    "    if k == 0:\n",
    "        assert False\n",
    "    if k == 1:\n",
    "        return (f(x_list_uniform[i1 + 1]) - f(x_list_uniform[i1])) / (x_list_uniform[i1 + 1] - x_list_uniform[i1])\n",
    "    if k >= 2:\n",
    "        f1 = calc_separated_differences_new(f, i1 + 1, i2)\n",
    "        f2 = calc_separated_differences_new(f, i1, i2 - 1)\n",
    "        return (f1 - f2) / (x_list_uniform[i2] - x_list_uniform[i1])\n",
    "\n",
    "\n",
    "def inter(f, x_list, x):\n",
    "    p = f(x_list[0])\n",
    "    for k in range(1, len(x_list)):\n",
    "        w = 1\n",
    "        for j in range(k):\n",
    "            w *= x - x_list[j]\n",
    "        sep = calc_separated_differences_new(f, 0, k)\n",
    "        p += sep * w\n",
    "    return p"
   ],
   "id": "d5128fdff6bfbbc7",
   "execution_count": 55,
   "outputs": []
  },
  {
   "metadata": {
    "ExecuteTime": {
     "end_time": "2024-06-02T17:56:54.412754Z",
     "start_time": "2024-06-02T17:56:54.408601Z"
    }
   },
   "cell_type": "code",
   "source": "y_inter_uniform_1k = inter(f, x_list_uniform, x_list_extended)",
   "id": "39b5d94e6e06fabc",
   "execution_count": 56,
   "outputs": []
  },
  {
   "metadata": {
    "ExecuteTime": {
     "end_time": "2024-06-02T17:56:54.817036Z",
     "start_time": "2024-06-02T17:56:54.813662Z"
    }
   },
   "cell_type": "code",
   "source": [
    "from functools import cache, lru_cache\n",
    "\n",
    "\n",
    "@cache\n",
    "def calc_separated_differences_new(f, i1, i2):\n",
    "    \"\"\"\n",
    "    Посчитать разделенные суммы от i1 до i2 включительно\n",
    "    \"\"\"\n",
    "    k = i2 - i1\n",
    "    if k == 0:\n",
    "        assert False\n",
    "    if k == 1:\n",
    "        return (f(x_list_chebyshev[i1 + 1]) - f(x_list_chebyshev[i1])) / (\n",
    "                    x_list_chebyshev[i1 + 1] - x_list_chebyshev[i1])\n",
    "    if k >= 2:\n",
    "        f1 = calc_separated_differences_new(f, i1 + 1, i2)\n",
    "        f2 = calc_separated_differences_new(f, i1, i2 - 1)\n",
    "        return (f1 - f2) / (x_list_chebyshev[i2] - x_list_chebyshev[i1])\n",
    "\n",
    "\n",
    "def inter(f, x_list, x):\n",
    "    p = f(x_list[0])\n",
    "    for k in range(1, len(x_list)):\n",
    "        w = 1\n",
    "        for j in range(k):\n",
    "            w *= x - x_list[j]\n",
    "        sep = calc_separated_differences_new(f, 0, k)\n",
    "        p += sep * w\n",
    "    return p"
   ],
   "id": "76c1ae2586ccb2a8",
   "execution_count": 57,
   "outputs": []
  },
  {
   "metadata": {
    "ExecuteTime": {
     "end_time": "2024-06-02T17:56:55.824781Z",
     "start_time": "2024-06-02T17:56:55.810844Z"
    }
   },
   "cell_type": "code",
   "source": "y_inter_chebyshev_1k = inter(f, x_list_chebyshev, x_list_extended)",
   "id": "5bb6caf196184f33",
   "execution_count": 58,
   "outputs": []
  },
  {
   "metadata": {
    "ExecuteTime": {
     "end_time": "2024-06-02T17:56:57.629291Z",
     "start_time": "2024-06-02T17:56:56.523235Z"
    }
   },
   "cell_type": "code",
   "source": [
    "import matplotlib.pyplot as plt\n",
    "\n",
    "plt.figure(figsize=(10, 6))\n",
    "plt.plot(x_list_extended, y_inter_uniform_1k, 'g--', label='uniform 1k')\n",
    "plt.plot(np.linspace(x_min, x_max, 1000), f(np.linspace(x_min, x_max, 1000)), 'r-', label='f(x)')\n",
    "plt.scatter(x_list_uniform, f(x_list_uniform), c='g')\n",
    "plt.legend(loc='upper right')\n",
    "plt.xlabel('x')\n",
    "plt.ylabel('y')\n",
    "plt.title('General uniform interpolation, k')\n",
    "plt.grid(True)"
   ],
   "id": "d87921d2c416edee",
   "execution_count": 59,
   "outputs": []
  },
  {
   "metadata": {
    "ExecuteTime": {
     "end_time": "2024-06-02T17:56:59.681810Z",
     "start_time": "2024-06-02T17:56:59.506924Z"
    }
   },
   "cell_type": "code",
   "source": [
    "plt.figure(figsize=(10, 6))\n",
    "plt.plot(x_list_extended, y_inter_chebyshev_1k, 'g--', label='chebyshev 1k')\n",
    "plt.plot(np.linspace(x_min, x_max, 1000), f(np.linspace(x_min, x_max, 1000)), 'r-', label='f(x)')\n",
    "plt.scatter(x_list_chebyshev, f(x_list_chebyshev), c='g')\n",
    "plt.legend(loc='upper right')\n",
    "plt.xlabel('x')\n",
    "plt.ylabel('y')\n",
    "plt.title('General uniform interpolation, k')\n",
    "plt.grid(True)"
   ],
   "id": "f4b8458c359f28b0",
   "execution_count": 60,
   "outputs": []
  },
  {
   "metadata": {
    "ExecuteTime": {
     "end_time": "2024-06-02T17:57:00.197913Z",
     "start_time": "2024-06-02T17:57:00.193095Z"
    }
   },
   "cell_type": "code",
   "source": [
    "multiplier = 2\n",
    "x_list_uniform = np.linspace(x_min, x_max, multiplier * k)\n",
    "x_list_chebyshev = (0.5 * (x_min + x_max) +\n",
    "                    0.5 * (x_max - x_min) * np.cos(\n",
    "            (2 * np.arange(1, multiplier * k + 1) - 1) / (2 * multiplier * k) * np.pi))\n",
    "\n",
    "x_list_extended = np.linspace(x_min, x_max, 3 * k)\n",
    "y_list_extended = f(x_list_extended)"
   ],
   "id": "11f21dc7784cbfe7",
   "execution_count": 61,
   "outputs": []
  },
  {
   "metadata": {
    "ExecuteTime": {
     "end_time": "2024-06-02T17:57:01.076533Z",
     "start_time": "2024-06-02T17:57:01.070308Z"
    }
   },
   "cell_type": "code",
   "source": [
    "from functools import cache, lru_cache\n",
    "\n",
    "\n",
    "@cache\n",
    "def calc_separated_differences_new(f, i1, i2):\n",
    "    \"\"\"\n",
    "    Посчитать разделенные суммы от i1 до i2 включительно\n",
    "    \"\"\"\n",
    "    k = i2 - i1\n",
    "    if k == 0:\n",
    "        assert False\n",
    "    if k == 1:\n",
    "        return (f(x_list_uniform[i1 + 1]) - f(x_list_uniform[i1])) / (x_list_uniform[i1 + 1] - x_list_uniform[i1])\n",
    "    if k >= 2:\n",
    "        f1 = calc_separated_differences_new(f, i1 + 1, i2)\n",
    "        f2 = calc_separated_differences_new(f, i1, i2 - 1)\n",
    "        return (f1 - f2) / (x_list_uniform[i2] - x_list_uniform[i1])\n",
    "\n",
    "\n",
    "def inter(f, x_list, x):\n",
    "    p = f(x_list[0])\n",
    "    for k in range(1, len(x_list)):\n",
    "        w = 1\n",
    "        for j in range(k):\n",
    "            w *= x - x_list[j]\n",
    "        sep = calc_separated_differences_new(f, 0, k)\n",
    "        p += sep * w\n",
    "    return p"
   ],
   "id": "934fc5fe953cc38a",
   "execution_count": 62,
   "outputs": []
  },
  {
   "metadata": {
    "ExecuteTime": {
     "end_time": "2024-06-02T17:57:01.474678Z",
     "start_time": "2024-06-02T17:57:01.471263Z"
    }
   },
   "cell_type": "code",
   "source": "y_inter_uniform_2k = inter(f, x_list_uniform, x_list_extended)",
   "id": "ed93b7d29199f1b3",
   "execution_count": 63,
   "outputs": []
  },
  {
   "metadata": {
    "ExecuteTime": {
     "end_time": "2024-06-02T17:57:02.112392Z",
     "start_time": "2024-06-02T17:57:02.101893Z"
    }
   },
   "cell_type": "code",
   "source": [
    "from functools import cache, lru_cache\n",
    "\n",
    "\n",
    "@cache\n",
    "def calc_separated_differences_new(f, i1, i2):\n",
    "    \"\"\"\n",
    "    Посчитать разделенные суммы от i1 до i2 включительно\n",
    "    \"\"\"\n",
    "    k = i2 - i1\n",
    "    if k == 0:\n",
    "        assert False\n",
    "    if k == 1:\n",
    "        return (f(x_list_chebyshev[i1 + 1]) - f(x_list_chebyshev[i1])) / (\n",
    "                    x_list_chebyshev[i1 + 1] - x_list_chebyshev[i1])\n",
    "    if k >= 2:\n",
    "        f1 = calc_separated_differences_new(f, i1 + 1, i2)\n",
    "        f2 = calc_separated_differences_new(f, i1, i2 - 1)\n",
    "        return (f1 - f2) / (x_list_chebyshev[i2] - x_list_chebyshev[i1])\n",
    "\n",
    "\n",
    "def inter(f, x_list, x):\n",
    "    p = f(x_list[0])\n",
    "    for k in range(1, len(x_list)):\n",
    "        w = 1\n",
    "        for j in range(k):\n",
    "            w *= x - x_list[j]\n",
    "        sep = calc_separated_differences_new(f, 0, k)\n",
    "        p += sep * w\n",
    "    return p"
   ],
   "id": "10be0239094db9d0",
   "execution_count": 64,
   "outputs": []
  },
  {
   "metadata": {
    "ExecuteTime": {
     "end_time": "2024-06-02T17:57:03.441522Z",
     "start_time": "2024-06-02T17:57:03.433771Z"
    }
   },
   "cell_type": "code",
   "source": "y_inter_chebyshev_2k = inter(f, x_list_chebyshev, x_list_extended)",
   "id": "f73f0c648510ea42",
   "execution_count": 65,
   "outputs": []
  },
  {
   "metadata": {
    "ExecuteTime": {
     "end_time": "2024-06-02T17:57:04.050255Z",
     "start_time": "2024-06-02T17:57:03.928366Z"
    }
   },
   "cell_type": "code",
   "source": [
    "plt.figure(figsize=(10, 6))\n",
    "plt.plot(x_list_extended, y_inter_uniform_2k, 'g--', label='uniform 2k')\n",
    "plt.plot(np.linspace(x_min, x_max, 1000), f(np.linspace(x_min, x_max, 1000)), 'r-', label='f(x)')\n",
    "plt.scatter(x_list_uniform, f(x_list_uniform), c='g')\n",
    "plt.legend(loc='upper right')\n",
    "plt.xlabel('x')\n",
    "plt.ylabel('y')\n",
    "plt.title('General uniform interpolation, k')\n",
    "plt.grid(True)"
   ],
   "id": "83a96c8af1346a02",
   "execution_count": 66,
   "outputs": []
  },
  {
   "metadata": {
    "ExecuteTime": {
     "end_time": "2024-06-02T17:57:05.462873Z",
     "start_time": "2024-06-02T17:57:05.315845Z"
    }
   },
   "cell_type": "code",
   "source": [
    "plt.figure(figsize=(10, 6))\n",
    "plt.plot(x_list_extended, y_inter_chebyshev_2k, 'g--', label='chebyshev 2k')\n",
    "plt.plot(np.linspace(x_min, x_max, 1000), f(np.linspace(x_min, x_max, 1000)), 'r-', label='f(x)')\n",
    "plt.scatter(x_list_chebyshev, f(x_list_chebyshev), c='g')\n",
    "plt.legend(loc='upper right')\n",
    "plt.xlabel('x')\n",
    "plt.ylabel('y')\n",
    "plt.title('General uniform interpolation, k')\n",
    "plt.grid(True)"
   ],
   "id": "1f22d7ac17ff5bac",
   "execution_count": 67,
   "outputs": []
  },
  {
   "metadata": {
    "ExecuteTime": {
     "end_time": "2024-06-02T17:57:06.090051Z",
     "start_time": "2024-06-02T17:57:06.086893Z"
    }
   },
   "cell_type": "code",
   "source": [
    "mse = lambda y1, y2: np.sqrt(np.mean((y1 - y2) ** 2))\n",
    "\n",
    "error_uniform_1k = mse(f(x_list_extended),  y_inter_uniform_1k)\n",
    "error_chebyshev_1k = mse(f(x_list_extended), y_inter_chebyshev_1k)\n",
    "\n",
    "print(f\"MSE для uniform: {error_uniform_1k}\")\n",
    "print(f\"MSE для chebyshev: {error_chebyshev_1k}\")"
   ],
   "id": "2cd759c74e4e371a",
   "execution_count": 68,
   "outputs": []
  },
  {
   "metadata": {
    "ExecuteTime": {
     "end_time": "2024-06-02T17:57:07.092042Z",
     "start_time": "2024-06-02T17:57:07.072929Z"
    }
   },
   "cell_type": "code",
   "source": [
    "mse = lambda y1, y2: np.sqrt(np.mean((y1 - y2) ** 2))\n",
    "\n",
    "error_uniform_2k = mse(f(x_list_extended),  y_inter_uniform_2k)\n",
    "error_chebyshev_2k = mse(f(x_list_extended), y_inter_chebyshev_2k)\n",
    "\n",
    "print(f\"MSE для uniform: {error_uniform_2k}\")\n",
    "print(f\"MSE для chebyshev: {error_chebyshev_2k}\")"
   ],
   "id": "8557acbb2d6e94a",
   "execution_count": 69,
   "outputs": []
  },
  {
   "metadata": {},
   "cell_type": "code",
   "execution_count": null,
   "source": "",
   "id": "dc1f30746d85e39f",
   "outputs": []
  }
 ],
 "metadata": {
  "kernelspec": {
   "display_name": "Python 3",
   "language": "python",
   "name": "python3"
  },
  "language_info": {
   "codemirror_mode": {
    "name": "ipython",
    "version": 2
   },
   "file_extension": ".py",
   "mimetype": "text/x-python",
   "name": "python",
   "nbconvert_exporter": "python",
   "pygments_lexer": "ipython2",
   "version": "2.7.6"
  }
 },
 "nbformat": 4,
 "nbformat_minor": 5
}
