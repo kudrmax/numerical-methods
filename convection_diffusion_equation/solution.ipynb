{
 "cells": [
  {
   "cell_type": "code",
   "id": "initial_id",
   "metadata": {
    "collapsed": true,
    "ExecuteTime": {
     "end_time": "2024-11-02T13:41:17.080509Z",
     "start_time": "2024-11-02T13:41:17.064679Z"
    }
   },
   "source": [
    "import numpy as np\n",
    "import matplotlib.pyplot as plt\n",
    "import imageio\n",
    "import os\n",
    "from typing import Callable, Any"
   ],
   "outputs": [],
   "execution_count": 41
  },
  {
   "metadata": {
    "ExecuteTime": {
     "end_time": "2024-11-02T13:47:48.201449Z",
     "start_time": "2024-11-02T13:47:48.194259Z"
    }
   },
   "cell_type": "code",
   "source": [
    "L = 3.0\n",
    "left, right = -L, L\n",
    "left_value, right_value = 1.0, 0.0\n",
    "\n",
    "\n",
    "def H(x):\n",
    "    H = np.empty(len(x), dtype=float)\n",
    "    for i in range(len(x)):\n",
    "        H[i] = 1.0 if x[i] >= 0 else 0.0\n",
    "    return H\n",
    "\n",
    "\n",
    "def apply_boundary_conditions(u, n):\n",
    "    u[n, 0] = left_value\n",
    "    u[n, -1] = right_value"
   ],
   "id": "4a3d4a5fe1eedd9",
   "outputs": [],
   "execution_count": 72
  },
  {
   "metadata": {
    "ExecuteTime": {
     "end_time": "2024-11-02T13:48:47.398383Z",
     "start_time": "2024-11-02T13:48:47.392142Z"
    }
   },
   "cell_type": "code",
   "source": [
    "def get_solution(\n",
    "        eps: float,\n",
    "        a: float,\n",
    "        H: Callable[[Any], Any],\n",
    "        left: float,\n",
    "        right: float,\n",
    "        T: float,\n",
    "        h: float,\n",
    "        tau: float,\n",
    "        apply_boundary_conditions: Callable[[Any, int], Any]\n",
    "):\n",
    "    x = np.arange(left, right + h, h)\n",
    "    t = np.arange(0, T + tau, tau)\n",
    "    u = np.zeros((len(t), len(x)))\n",
    "    apply_boundary_conditions(u, 0)\n",
    "    u[0, :] = np.ones(u.shape[1]) - H(x)\n",
    "\n",
    "    for n in range(0, len(t) - 1):\n",
    "        apply_boundary_conditions(u, n + 1)\n",
    "        for i in range(1, len(x) - 1):\n",
    "            u[n + 1, i] = u[n, i] + tau * (\n",
    "                    eps * ((u[n, i + 1] - 2 * u[n, i] + u[n, i - 1]) / h ** 2) -\n",
    "                    a * ((u[n, i + 1] - u[n, i - 1]) / (2 * h))\n",
    "            )\n",
    "\n",
    "    return u, x"
   ],
   "id": "476e11c5ef3657eb",
   "outputs": [],
   "execution_count": 76
  },
  {
   "metadata": {
    "jupyter": {
     "is_executing": true
    },
    "ExecuteTime": {
     "start_time": "2024-11-02T14:07:50.565612Z"
    }
   },
   "cell_type": "code",
   "source": [
    "eps = 0\n",
    "a = 0.01\n",
    "T = 200\n",
    "h = 0.05\n",
    "tau = h ** 2 / (2 * max(abs(eps))) if eps != 0 else h ** 2 / 2\n",
    "\n",
    "u, x = get_solution(\n",
    "    eps=eps,\n",
    "    a=a,\n",
    "    H=H,\n",
    "    left=left,\n",
    "    right=right,\n",
    "    T=T,\n",
    "    h=h,\n",
    "    tau=tau,\n",
    "    apply_boundary_conditions=apply_boundary_conditions\n",
    ")"
   ],
   "id": "39fa7625f7e7a61e",
   "outputs": [],
   "execution_count": null
  },
  {
   "metadata": {
    "jupyter": {
     "is_executing": true
    }
   },
   "cell_type": "code",
   "source": [
    "step_count = 10\n",
    "times_to_plot = np.arange(0, T, T / step_count)\n",
    "for t in times_to_plot[:3]:\n",
    "    n = int(t / tau)\n",
    "    plt.plot(x, u[n, :], label=f't = {t:.2f}')\n",
    "plt.legend()\n",
    "plt.grid(True)\n",
    "plt.show()"
   ],
   "id": "7153eb4f1ab6e01a",
   "outputs": [],
   "execution_count": null
  },
  {
   "metadata": {
    "jupyter": {
     "is_executing": true
    }
   },
   "cell_type": "code",
   "source": [
    "# очисить все в папке for_git\n",
    "image_folder = 'for_gif'\n",
    "for filename in os.listdir(image_folder):\n",
    "    if filename.endswith('.png'):\n",
    "        file_path = os.path.join(image_folder, filename)\n",
    "        os.remove(file_path)\n",
    "\n",
    "# создать графики в папке for_gif\n",
    "for t in np.arange(0, T, 100 * tau):\n",
    "    n = int(t / tau)\n",
    "    plt.plot(x, u[n, :])\n",
    "    t_str = f'{t:012.6f}'\n",
    "    plt.title(f't = {t_str}')\n",
    "    plt.grid(True)\n",
    "    plt.xlabel('x')\n",
    "    plt.ylabel('u(x)')\n",
    "    plt.ylim(-1, 4)\n",
    "    plt.savefig(f'for_gif/{t_str}.png')\n",
    "    plt.close()"
   ],
   "id": "db2c04b2d0804540",
   "outputs": [],
   "execution_count": null
  },
  {
   "metadata": {
    "jupyter": {
     "is_executing": true
    }
   },
   "cell_type": "code",
   "source": [
    "from PIL import Image\n",
    "import os\n",
    "\n",
    "image_folder = 'for_gif'\n",
    "gif_path = 'animation.gif'\n",
    "images = []\n",
    "\n",
    "for filename in sorted(os.listdir(image_folder)):\n",
    "    if filename.endswith('.png'):  # Проверяем расширение файла\n",
    "        file_path = os.path.join(image_folder, filename)\n",
    "        images.append(Image.open(file_path))\n",
    "\n",
    "if images:\n",
    "    images[0].save(\n",
    "        gif_path,\n",
    "        save_all=True,\n",
    "        append_images=images[1::25],\n",
    "        duration=1,\n",
    "        loop=0\n",
    "    )"
   ],
   "id": "5bacdc9d41848e80",
   "outputs": [],
   "execution_count": null
  },
  {
   "metadata": {},
   "cell_type": "code",
   "outputs": [],
   "execution_count": null,
   "source": "",
   "id": "1c4f29a267db56a"
  }
 ],
 "metadata": {
  "kernelspec": {
   "display_name": "Python 3",
   "language": "python",
   "name": "python3"
  },
  "language_info": {
   "codemirror_mode": {
    "name": "ipython",
    "version": 2
   },
   "file_extension": ".py",
   "mimetype": "text/x-python",
   "name": "python",
   "nbconvert_exporter": "python",
   "pygments_lexer": "ipython2",
   "version": "2.7.6"
  }
 },
 "nbformat": 4,
 "nbformat_minor": 5
}
