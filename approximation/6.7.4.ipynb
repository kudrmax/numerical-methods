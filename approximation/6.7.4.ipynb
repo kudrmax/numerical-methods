{
 "cells": [
  {
   "metadata": {
    "ExecuteTime": {
     "end_time": "2024-05-19T11:36:12.809591Z",
     "start_time": "2024-05-19T11:36:12.802553Z"
    }
   },
   "cell_type": "code",
   "source": [
    "import numpy as np\n",
    "import matplotlib.pyplot as plt\n",
    "from scipy.interpolate import interp1d"
   ],
   "id": "1ffb354ad683de61",
   "outputs": [],
   "execution_count": 99
  },
  {
   "metadata": {
    "ExecuteTime": {
     "end_time": "2024-05-19T11:36:13.016879Z",
     "start_time": "2024-05-19T11:36:13.014426Z"
    }
   },
   "cell_type": "code",
   "source": [
    "def f(x):\n",
    "    return np.abs(x - 3) * (x ** 2 + 1)\n",
    "\n",
    "\n",
    "x_min, x_max = 0, 4"
   ],
   "id": "7287e9b13fcf7118",
   "outputs": [],
   "execution_count": 100
  },
  {
   "metadata": {
    "ExecuteTime": {
     "end_time": "2024-05-19T11:36:13.231294Z",
     "start_time": "2024-05-19T11:36:13.228112Z"
    }
   },
   "cell_type": "code",
   "source": [
    "x_list = np.arange(x_min, x_max, 0.05)\n",
    "y_list = f(x_list)"
   ],
   "id": "7d09838ac1de06da",
   "outputs": [],
   "execution_count": 101
  },
  {
   "metadata": {
    "ExecuteTime": {
     "end_time": "2024-05-19T11:36:13.498083Z",
     "start_time": "2024-05-19T11:36:13.495207Z"
    }
   },
   "cell_type": "code",
   "source": [
    "k = 3\n",
    "x_more = []\n",
    "for i in range(len(x_list) - 1):\n",
    "    d = x_list[i + 1] - x_list[i]\n",
    "    delta = d / k\n",
    "    for j in range(k):\n",
    "        x_more.append(x_list[i] + delta * j)\n",
    "x_more.append(x_list[-1])\n",
    "x_more = np.array(x_more)"
   ],
   "id": "f087677aff4c02e1",
   "outputs": [],
   "execution_count": 102
  },
  {
   "metadata": {
    "ExecuteTime": {
     "end_time": "2024-05-19T11:36:13.819926Z",
     "start_time": "2024-05-19T11:36:13.809727Z"
    }
   },
   "cell_type": "code",
   "source": [
    "def get_linear_interp(x1, x2, y1, y2, xp):\n",
    "    if x1 <= xp <= x2:\n",
    "        yp = y1 + ((y2 - y1) / (x2 - x1)) * (xp - x1)\n",
    "        return yp\n",
    "    else:\n",
    "        assert False  # @todo переделать\n",
    "\n",
    "\n",
    "def get_linear_interp_all(x_list, y_list):\n",
    "    x_new_list = []\n",
    "    y_new_list = []\n",
    "    for i in range(len(x_list) - 1):\n",
    "        d = x_list[i + 1] - x_list[i]\n",
    "        delta = d / k\n",
    "        for j in range(k):\n",
    "            x = x_list[i] + j * delta\n",
    "            y = get_linear_interp(x_list[i], x_list[i + 1], y_list[i], y_list[i + 1], x)\n",
    "\n",
    "            x_new_list.append(x)\n",
    "            y_new_list.append(y)\n",
    "\n",
    "    x_new_list.append(x_list[-1])\n",
    "    y_new_list.append(y_list[-1])\n",
    "    return x_new_list, y_new_list"
   ],
   "id": "446ed474cb607336",
   "outputs": [],
   "execution_count": 103
  },
  {
   "metadata": {
    "ExecuteTime": {
     "end_time": "2024-05-19T11:36:14.267242Z",
     "start_time": "2024-05-19T11:36:14.157757Z"
    }
   },
   "cell_type": "code",
   "source": "plt.scatter(x_list, y_list, s=5, c='r', zorder=2)",
   "id": "18e5f5f78d76f05e",
   "outputs": [
    {
     "data": {
      "text/plain": [
       "<matplotlib.collections.PathCollection at 0x163f248d0>"
      ]
     },
     "execution_count": 104,
     "metadata": {},
     "output_type": "execute_result"
    },
    {
     "data": {
      "text/plain": [
       "<Figure size 640x480 with 1 Axes>"
      ],
      "image/png": "[encoded data removed]"
     },
     "metadata": {},
     "output_type": "display_data"
    }
   ],
   "execution_count": 104
  },
  {
   "metadata": {
    "ExecuteTime": {
     "end_time": "2024-05-19T11:36:14.607189Z",
     "start_time": "2024-05-19T11:36:14.604603Z"
    }
   },
   "cell_type": "code",
   "source": "xs, ys = get_linear_interp_all(x_list, y_list)",
   "id": "897cad493fb82e30",
   "outputs": [],
   "execution_count": 105
  },
  {
   "metadata": {
    "ExecuteTime": {
     "end_time": "2024-05-19T11:36:15.412057Z",
     "start_time": "2024-05-19T11:36:15.298362Z"
    }
   },
   "cell_type": "code",
   "source": "plt.scatter(xs, ys, s=5, c='r', zorder=2)",
   "id": "f821403d0faaaf9c",
   "outputs": [
    {
     "data": {
      "text/plain": [
       "<matplotlib.collections.PathCollection at 0x1640f9990>"
      ]
     },
     "execution_count": 106,
     "metadata": {},
     "output_type": "execute_result"
    },
    {
     "data": {
      "text/plain": [
       "<Figure size 640x480 with 1 Axes>"
      ],
      "image/png": "[encoded data removed]"
     },
     "metadata": {},
     "output_type": "display_data"
    }
   ],
   "execution_count": 106
  },
  {
   "metadata": {
    "ExecuteTime": {
     "end_time": "2024-05-19T11:36:15.985623Z",
     "start_time": "2024-05-19T11:36:15.980879Z"
    }
   },
   "cell_type": "code",
   "source": [
    "from functools import cache, lru_cache\n",
    "\n",
    "\n",
    "@cache\n",
    "def calc_separated_differences_new(f, i1, i2):\n",
    "    \"\"\"\n",
    "    Посчитать разделенные суммы от l до r включительно\n",
    "    \"\"\"\n",
    "    k = i2 - i1\n",
    "    if k == 0:\n",
    "        return f(x_list[i1])\n",
    "    if k == 1:\n",
    "        return (f(x_list[i1 + 1]) - f(x_list[i1])) / (x_list[i1 + 1] - x_list[i1])\n",
    "    if k >= 2:\n",
    "        f1 = calc_separated_differences_new(f, i1 + 1, i2)\n",
    "        f2 = calc_separated_differences_new(f, i1, i2 - 1)\n",
    "        return (f1 - f2) / (x_list[i2] - x_list[i1])\n",
    "\n",
    "\n",
    "def inter(f, x_list, x):\n",
    "    p = 0\n",
    "    for k in range(len(x_list)):\n",
    "        w = 1\n",
    "        for j in range(k):\n",
    "            w *= x - x_list[j]\n",
    "        sep = calc_separated_differences_new(f, 0, k)\n",
    "        p += sep * w\n",
    "    return p\n",
    "\n",
    "# x_list = [1.2, 1.3, 1.1, 1.4, 1.0]\n",
    "# def f(x): return np.log(x)\n",
    "# x = 1.23\n",
    "# \n",
    "# for k in range(len(x_list)):\n",
    "#     print(f'{k = }, sep = {calc_separated_differences_new(f, 0, k)}')\n",
    "# \n",
    "# for k in range(len(x_list)):\n",
    "#     print(f'{k = }, inter = {inter(f, x_list[:k + 1], x)}')\n",
    "# \n",
    "# print(f(x_list[0]))"
   ],
   "id": "27d0542c0987e5d4",
   "outputs": [],
   "execution_count": 107
  },
  {
   "metadata": {
    "ExecuteTime": {
     "end_time": "2024-05-19T11:37:59.511422Z",
     "start_time": "2024-05-19T11:37:59.376947Z"
    }
   },
   "cell_type": "code",
   "source": [
    "inter_list = []\n",
    "for xp in x_more[50:-50]:\n",
    "    inter_list.append(inter(f, x_list, xp))\n",
    "plt.scatter(x_more[50:-50], inter_list, s=5, c='r', zorder=2)"
   ],
   "id": "587c1f29458941a8",
   "outputs": [
    {
     "data": {
      "text/plain": [
       "<matplotlib.collections.PathCollection at 0x165259250>"
      ]
     },
     "execution_count": 112,
     "metadata": {},
     "output_type": "execute_result"
    },
    {
     "data": {
      "text/plain": [
       "<Figure size 640x480 with 1 Axes>"
      ],
      "image/png": "[encoded data removed]"
     },
     "metadata": {},
     "output_type": "display_data"
    }
   ],
   "execution_count": 112
  },
  {
   "metadata": {},
   "cell_type": "code",
   "outputs": [],
   "execution_count": null,
   "source": "",
   "id": "91e2ffb414887bdb"
  }
 ],
 "metadata": {
  "kernelspec": {
   "display_name": "Python 3",
   "language": "python",
   "name": "python3"
  },
  "language_info": {
   "codemirror_mode": {
    "name": "ipython",
    "version": 2
   },
   "file_extension": ".py",
   "mimetype": "text/x-python",
   "name": "python",
   "nbconvert_exporter": "python",
   "pygments_lexer": "ipython2",
   "version": "2.7.6"
  }
 },
 "nbformat": 4,
 "nbformat_minor": 5
}
