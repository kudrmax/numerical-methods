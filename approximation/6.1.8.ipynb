{
 "cells": [
  {
   "cell_type": "code",
   "id": "initial_id",
   "metadata": {
    "collapsed": true,
    "ExecuteTime": {
     "end_time": "2024-06-02T17:17:38.843709Z",
     "start_time": "2024-06-02T17:17:38.201071Z"
    }
   },
   "source": [
    "import numpy as np\n",
    "import matplotlib.pyplot as plt"
   ],
   "execution_count": 2,
   "outputs": []
  },
  {
   "metadata": {},
   "cell_type": "markdown",
   "source": "Функция для расчета mnk находится в отдельном файле: [открыть файл](mnk.py)",
   "id": "d03d3354a948c12d"
  },
  {
   "metadata": {
    "ExecuteTime": {
     "end_time": "2024-06-02T17:17:39.424475Z",
     "start_time": "2024-06-02T17:17:39.420855Z"
    }
   },
   "cell_type": "code",
   "source": "from mnk import mnk",
   "id": "f4d0dad1efccb95d",
   "execution_count": 3,
   "outputs": []
  },
  {
   "metadata": {},
   "cell_type": "markdown",
   "source": "Задаем точки по условию",
   "id": "6b086dcc80c0b45e"
  },
  {
   "metadata": {
    "ExecuteTime": {
     "end_time": "2024-06-02T17:17:40.217281Z",
     "start_time": "2024-06-02T17:17:40.213188Z"
    }
   },
   "cell_type": "code",
   "source": [
    "x = np.array([0.0, 0.3, 0.6, 0.9, 1.2, 1.5, 1.8, 2.1, 2.4, 2.7, 3.0])\n",
    "y = np.array([1.019, 1.4889, 2.2079, 3.0548, 3.8648, 4.2161, 5.1180, 5.7661, 6.6720, 7.1960, 7.8551])\n",
    "n = len(x)"
   ],
   "id": "1dc04479bd16e66d",
   "execution_count": 4,
   "outputs": []
  },
  {
   "metadata": {},
   "cell_type": "markdown",
   "source": "Cчитаем сигмы для определения лучшего m",
   "id": "be8b7653a355a11b"
  },
  {
   "metadata": {
    "ExecuteTime": {
     "end_time": "2024-06-02T17:17:42.095202Z",
     "start_time": "2024-06-02T17:17:42.046331Z"
    }
   },
   "cell_type": "code",
   "source": [
    "sigmas = []  # массив с разными сигмами\n",
    "functions = []  # массив функция для вычисления полиномов\n",
    "coeffs = []  # коэффициенты для полиновом\n",
    "for m in range(n):\n",
    "    f, coeff = mnk(x, y, m)\n",
    "    sigma = np.sqrt((1 / (n - m)) * np.sum((f(x) - y) ** 2))\n",
    "    sigmas.append(sigma)\n",
    "    functions.append(f)\n",
    "    coeffs.append(coeff)"
   ],
   "id": "c45ab7e54d3e3a2",
   "execution_count": 5,
   "outputs": []
  },
  {
   "metadata": {
    "ExecuteTime": {
     "end_time": "2024-06-02T17:17:43.321733Z",
     "start_time": "2024-06-02T17:17:43.195733Z"
    }
   },
   "cell_type": "code",
   "source": "plt.bar(x=np.arange(len(sigmas)), height=sigmas)",
   "id": "1386d14e5b831ced",
   "execution_count": 6,
   "outputs": []
  },
  {
   "metadata": {},
   "cell_type": "markdown",
   "source": "Видно, что функция стабилизируется при m=1, то есть при линейной функции",
   "id": "8f2b9162fdf10123"
  },
  {
   "metadata": {
    "ExecuteTime": {
     "end_time": "2024-06-02T17:17:45.376773Z",
     "start_time": "2024-06-02T17:17:45.007321Z"
    }
   },
   "cell_type": "code",
   "source": [
    "f, _ = mnk(x, y, 1)\n",
    "\n",
    "x_frequent = np.arange(min(x), max(x), 0.01)\n",
    "plt.scatter(x, y, c='r')\n",
    "plt.plot(x_frequent, f(x_frequent))"
   ],
   "id": "ec02a99a5278defd",
   "execution_count": 7,
   "outputs": []
  },
  {
   "metadata": {
    "ExecuteTime": {
     "end_time": "2024-05-20T19:48:37.105631Z",
     "start_time": "2024-05-20T19:48:36.940377Z"
    }
   },
   "cell_type": "code",
   "source": [
    "for f in functions:\n",
    "    plt.plot(x_frequent, f(x_frequent), linewidth=0.7, label=f'm={functions.index(f)}')\n",
    "plt.scatter(x, y, c='r', label='points', zorder=n + 1)\n",
    "plt.legend()"
   ],
   "id": "60b7cd888a99a060",
   "execution_count": 7,
   "outputs": []
  },
  {
   "metadata": {
    "ExecuteTime": {
     "end_time": "2024-05-20T19:48:37.524433Z",
     "start_time": "2024-05-20T19:48:37.522317Z"
    }
   },
   "cell_type": "code",
   "source": "",
   "id": "e19c31ebf73d44e3",
   "execution_count": 7,
   "outputs": []
  },
  {
   "metadata": {},
   "cell_type": "code",
   "execution_count": null,
   "source": "",
   "id": "3d19459b07c329ed",
   "outputs": []
  }
 ],
 "metadata": {
  "kernelspec": {
   "display_name": "Python 3",
   "language": "python",
   "name": "python3"
  },
  "language_info": {
   "codemirror_mode": {
    "name": "ipython",
    "version": 2
   },
   "file_extension": ".py",
   "mimetype": "text/x-python",
   "name": "python",
   "nbconvert_exporter": "python",
   "pygments_lexer": "ipython2",
   "version": "2.7.6"
  }
 },
 "nbformat": 4,
 "nbformat_minor": 5
}
