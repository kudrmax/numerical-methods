{
 "cells": [
  {
   "metadata": {
    "ExecuteTime": {
     "end_time": "2024-05-19T10:57:31.674486Z",
     "start_time": "2024-05-19T10:57:31.666860Z"
    }
   },
   "cell_type": "code",
   "source": [
    "import functools\n",
    "\n",
    "import numpy as np\n",
    "import matplotlib.pyplot as plt\n",
    "from scipy.interpolate import interp1d"
   ],
   "id": "1ffb354ad683de61",
   "outputs": [],
   "execution_count": 30
  },
  {
   "metadata": {
    "ExecuteTime": {
     "end_time": "2024-05-19T10:57:32.166496Z",
     "start_time": "2024-05-19T10:57:32.161958Z"
    }
   },
   "cell_type": "code",
   "source": [
    "def f(x):\n",
    "    return np.abs(x - 3) * (x ** 2 + 1)\n",
    "\n",
    "\n",
    "x_min, x_max = 0, 4"
   ],
   "id": "7287e9b13fcf7118",
   "outputs": [],
   "execution_count": 31
  },
  {
   "metadata": {
    "ExecuteTime": {
     "end_time": "2024-05-19T10:57:32.926841Z",
     "start_time": "2024-05-19T10:57:32.920536Z"
    }
   },
   "cell_type": "code",
   "source": [
    "x = np.arange(x_min, x_max, 0.05)\n",
    "y = f(x)"
   ],
   "id": "7d09838ac1de06da",
   "outputs": [],
   "execution_count": 32
  },
  {
   "metadata": {
    "ExecuteTime": {
     "end_time": "2024-05-19T10:57:35.126516Z",
     "start_time": "2024-05-19T10:57:35.115429Z"
    }
   },
   "cell_type": "code",
   "source": [
    "k = 3\n",
    "x_more = []\n",
    "for i in range(len(x) - 1):\n",
    "    d = x[i + 1] - x[i]\n",
    "    delta = d / k\n",
    "    for j in range(k):\n",
    "        x_more.append(x[i] + delta * j)\n",
    "x_more.append(x[-1])\n",
    "x_more = np.array(x_more)\n",
    "x_more"
   ],
   "id": "f087677aff4c02e1",
   "outputs": [
    {
     "data": {
      "text/plain": [
       "array([0.        , 0.01666667, 0.03333333, 0.05      , 0.06666667,\n",
       "       0.08333333, 0.1       , 0.11666667, 0.13333333, 0.15      ,\n",
       "       0.16666667, 0.18333333, 0.2       , 0.21666667, 0.23333333,\n",
       "       0.25      , 0.26666667, 0.28333333, 0.3       , 0.31666667,\n",
       "       0.33333333, 0.35      , 0.36666667, 0.38333333, 0.4       ,\n",
       "       0.41666667, 0.43333333, 0.45      , 0.46666667, 0.48333333,\n",
       "       0.5       , 0.51666667, 0.53333333, 0.55      , 0.56666667,\n",
       "       0.58333333, 0.6       , 0.61666667, 0.63333333, 0.65      ,\n",
       "       0.66666667, 0.68333333, 0.7       , 0.71666667, 0.73333333,\n",
       "       0.75      , 0.76666667, 0.78333333, 0.8       , 0.81666667,\n",
       "       0.83333333, 0.85      , 0.86666667, 0.88333333, 0.9       ,\n",
       "       0.91666667, 0.93333333, 0.95      , 0.96666667, 0.98333333,\n",
       "       1.        , 1.01666667, 1.03333333, 1.05      , 1.06666667,\n",
       "       1.08333333, 1.1       , 1.11666667, 1.13333333, 1.15      ,\n",
       "       1.16666667, 1.18333333, 1.2       , 1.21666667, 1.23333333,\n",
       "       1.25      , 1.26666667, 1.28333333, 1.3       , 1.31666667,\n",
       "       1.33333333, 1.35      , 1.36666667, 1.38333333, 1.4       ,\n",
       "       1.41666667, 1.43333333, 1.45      , 1.46666667, 1.48333333,\n",
       "       1.5       , 1.51666667, 1.53333333, 1.55      , 1.56666667,\n",
       "       1.58333333, 1.6       , 1.61666667, 1.63333333, 1.65      ,\n",
       "       1.66666667, 1.68333333, 1.7       , 1.71666667, 1.73333333,\n",
       "       1.75      , 1.76666667, 1.78333333, 1.8       , 1.81666667,\n",
       "       1.83333333, 1.85      , 1.86666667, 1.88333333, 1.9       ,\n",
       "       1.91666667, 1.93333333, 1.95      , 1.96666667, 1.98333333,\n",
       "       2.        , 2.01666667, 2.03333333, 2.05      , 2.06666667,\n",
       "       2.08333333, 2.1       , 2.11666667, 2.13333333, 2.15      ,\n",
       "       2.16666667, 2.18333333, 2.2       , 2.21666667, 2.23333333,\n",
       "       2.25      , 2.26666667, 2.28333333, 2.3       , 2.31666667,\n",
       "       2.33333333, 2.35      , 2.36666667, 2.38333333, 2.4       ,\n",
       "       2.41666667, 2.43333333, 2.45      , 2.46666667, 2.48333333,\n",
       "       2.5       , 2.51666667, 2.53333333, 2.55      , 2.56666667,\n",
       "       2.58333333, 2.6       , 2.61666667, 2.63333333, 2.65      ,\n",
       "       2.66666667, 2.68333333, 2.7       , 2.71666667, 2.73333333,\n",
       "       2.75      , 2.76666667, 2.78333333, 2.8       , 2.81666667,\n",
       "       2.83333333, 2.85      , 2.86666667, 2.88333333, 2.9       ,\n",
       "       2.91666667, 2.93333333, 2.95      , 2.96666667, 2.98333333,\n",
       "       3.        , 3.01666667, 3.03333333, 3.05      , 3.06666667,\n",
       "       3.08333333, 3.1       , 3.11666667, 3.13333333, 3.15      ,\n",
       "       3.16666667, 3.18333333, 3.2       , 3.21666667, 3.23333333,\n",
       "       3.25      , 3.26666667, 3.28333333, 3.3       , 3.31666667,\n",
       "       3.33333333, 3.35      , 3.36666667, 3.38333333, 3.4       ,\n",
       "       3.41666667, 3.43333333, 3.45      , 3.46666667, 3.48333333,\n",
       "       3.5       , 3.51666667, 3.53333333, 3.55      , 3.56666667,\n",
       "       3.58333333, 3.6       , 3.61666667, 3.63333333, 3.65      ,\n",
       "       3.66666667, 3.68333333, 3.7       , 3.71666667, 3.73333333,\n",
       "       3.75      , 3.76666667, 3.78333333, 3.8       , 3.81666667,\n",
       "       3.83333333, 3.85      , 3.86666667, 3.88333333, 3.9       ,\n",
       "       3.91666667, 3.93333333, 3.95      ])"
      ]
     },
     "execution_count": 33,
     "metadata": {},
     "output_type": "execute_result"
    }
   ],
   "execution_count": 33
  },
  {
   "metadata": {
    "ExecuteTime": {
     "end_time": "2024-05-19T11:04:16.826589Z",
     "start_time": "2024-05-19T11:04:16.808735Z"
    }
   },
   "cell_type": "code",
   "source": [
    "def get_linear_interp(x1, x2, y1, y2, xp):\n",
    "    if x1 <= xp <= x2:\n",
    "        yp = y1 + ((y2 - y1) / (x2 - x1)) * (xp - x1)\n",
    "        return yp\n",
    "    else:\n",
    "        assert False  # @todo переделать\n",
    "\n",
    "\n",
    "def get_linear_interp_all(x, y):\n",
    "    xs = []\n",
    "    ys = []\n",
    "    for i in range(len(x) - 1):\n",
    "        d = x[i + 1] - x[i]\n",
    "        delta = d / k\n",
    "        for j in range(k):\n",
    "            xp = x[i] + j * delta\n",
    "            yp = get_linear_interp(x[i], x[i + 1], y[i], y[i + 1], xp)\n",
    "\n",
    "            xs.append(xp)\n",
    "            ys.append(yp)\n",
    "\n",
    "        # xs.append(x[i + 1])\n",
    "        # ys.append(y[i + 1])\n",
    "    xs.append(x[-1])\n",
    "    ys.append(y[-1])\n",
    "    return xs, ys"
   ],
   "id": "446ed474cb607336",
   "outputs": [],
   "execution_count": 46
  },
  {
   "metadata": {
    "ExecuteTime": {
     "end_time": "2024-05-19T11:04:17.512299Z",
     "start_time": "2024-05-19T11:04:17.343251Z"
    }
   },
   "cell_type": "code",
   "source": [
    "plt.plot(x, y)\n",
    "plt.scatter(x, y, s=5, c='r', zorder=2)"
   ],
   "id": "18e5f5f78d76f05e",
   "outputs": [
    {
     "data": {
      "text/plain": [
       "<matplotlib.collections.PathCollection at 0x163973510>"
      ]
     },
     "execution_count": 47,
     "metadata": {},
     "output_type": "execute_result"
    },
    {
     "data": {
      "text/plain": [
       "<Figure size 640x480 with 1 Axes>"
      ],
      "image/png": "[encoded data removed]"
     },
     "metadata": {},
     "output_type": "display_data"
    }
   ],
   "execution_count": 47
  },
  {
   "metadata": {
    "ExecuteTime": {
     "end_time": "2024-05-19T11:05:33.210432Z",
     "start_time": "2024-05-19T11:05:33.204746Z"
    }
   },
   "cell_type": "code",
   "source": "xs, ys = get_linear_interp_all(x, y)",
   "id": "897cad493fb82e30",
   "outputs": [],
   "execution_count": 53
  },
  {
   "metadata": {
    "ExecuteTime": {
     "end_time": "2024-05-19T11:05:34.126789Z",
     "start_time": "2024-05-19T11:05:33.698235Z"
    }
   },
   "cell_type": "code",
   "source": "plt.scatter(xs, ys, s=5, c='r', zorder=2)",
   "id": "f821403d0faaaf9c",
   "outputs": [
    {
     "data": {
      "text/plain": [
       "<matplotlib.collections.PathCollection at 0x1639c4a90>"
      ]
     },
     "execution_count": 54,
     "metadata": {},
     "output_type": "execute_result"
    },
    {
     "data": {
      "text/plain": [
       "<Figure size 640x480 with 1 Axes>"
      ],
      "image/png": "[encoded data removed]"
     },
     "metadata": {},
     "output_type": "display_data"
    }
   ],
   "execution_count": 54
  },
  {
   "metadata": {
    "ExecuteTime": {
     "end_time": "2024-05-19T11:12:16.505878Z",
     "start_time": "2024-05-19T11:12:16.490156Z"
    }
   },
   "cell_type": "code",
   "source": [
    "from functools import cache\n",
    "\n",
    "def inter(f, x_list, x):\n",
    "    def calc_w(x_list, x: float) -> float:\n",
    "        w = 1\n",
    "        for j in range(len(x_list)):\n",
    "            w *= x - x_list[j]\n",
    "        return w\n",
    "    \n",
    "    def calc_separated_differences(f, x_list) -> float:\n",
    "        \"\"\"\n",
    "        Функция, вычисляющая разделенные разности (стр. 319)\n",
    "        \"\"\"\n",
    "        if len(x_list) == 1:\n",
    "            return f(x_list[0])\n",
    "        if len(x_list) == 2:\n",
    "            return (f(x_list[1]) - f(x_list[0])) / (x_list[1] - x_list[0])\n",
    "        if len(x_list) >= 2:\n",
    "            f1 = calc_separated_differences(f, x_list[1:])\n",
    "            f2 = calc_separated_differences(f, x_list[:-1])\n",
    "            return (f1 - f2) / (x_list[-1] - x_list[0])\n",
    "\n",
    "    p = 0\n",
    "    for k in range(len(x_list)):\n",
    "        w = calc_w(x_list[:k], x)\n",
    "        sep = calc_separated_differences(f, x_list[:k + 1])\n",
    "        p += sep * w\n",
    "    return p"
   ],
   "id": "27d0542c0987e5d4",
   "outputs": [],
   "execution_count": 67
  },
  {
   "metadata": {
    "jupyter": {
     "is_executing": true
    },
    "ExecuteTime": {
     "start_time": "2024-05-19T11:12:17.229692Z"
    }
   },
   "cell_type": "code",
   "source": [
    "inter_list = []\n",
    "for xp in x_more[:10]:\n",
    "    inter_list.append(inter(f, x, xp))\n",
    "inter_list"
   ],
   "id": "587c1f29458941a8",
   "outputs": [],
   "execution_count": null
  },
  {
   "metadata": {},
   "cell_type": "code",
   "outputs": [],
   "execution_count": null,
   "source": "",
   "id": "91e2ffb414887bdb"
  }
 ],
 "metadata": {
  "kernelspec": {
   "display_name": "Python 3",
   "language": "python",
   "name": "python3"
  },
  "language_info": {
   "codemirror_mode": {
    "name": "ipython",
    "version": 2
   },
   "file_extension": ".py",
   "mimetype": "text/x-python",
   "name": "python",
   "nbconvert_exporter": "python",
   "pygments_lexer": "ipython2",
   "version": "2.7.6"
  }
 },
 "nbformat": 4,
 "nbformat_minor": 5
}
